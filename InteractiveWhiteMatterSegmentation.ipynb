{
 "cells": [
  {
   "cell_type": "markdown",
   "id": "3b71906e",
   "metadata": {},
   "source": [
    "Let's begin by selecting the atlas from your local file system.  If you're running this notebook locally, you should be able to navigate to the appropriate folder using the file chooser interface below without any special setup (beyond installation of the relevant packages).\n",
    "\n",
    "However, if you're using a [jupyterlab](https://jupyter.org/) [binder](https://mybinder.org/), there's an extra step to making your data avaialble to this interface.  In order to do this, you'll need to upload your data to this virtual environment.  NOTE: because this is a temporary virtual environment, any data that you upload here will not be preserved.  All the same, it is best to be careful about what data is uploaded.  To upload data to this [jupyterlab](https://jupyter.org/) environment Click the **file icon** in the **left hand menu**, then click the **underlined up arrow** to begin the upload selection.\n",
    "\n",
    "Alternatively, if you're using a classic jupyter-notebook [binder](https://mybinder.org/) (acheived by clicking **Launch Classic Notebook** under the help menu, and temporarily reccomended until widget interfacing has been fixed in jupyterlab) click the **upload** button and upload the files below, and then select this notebook (InteractiveWhiteMatterSegmentation.ipynb) and proceed normally.\n",
    "\n",
    "For this particular notebook to operate successfully you'll need to upload the following:\n",
    "\n",
    "- The desired volumetric brain segmentation that will be used to specify brain areas that you wish to view connectivity between (the atlas and the tractrogram should be aligned to one another / in the same space).\n",
    "- A whole-brain tractogram containing the candidate streamlines you wish to inspect/segment (the atlas and the tractrogram should be aligned to one another / in the same space).\n",
    "- A lookup table (csv or xls) indicating the human-interpretable identities of the labels in the volumetric brain atlas file.\n",
    "\n",
    "Once these have been uploaded using the interface on the left hand side of the jupyterlab/binder page, you should be able to access those files in subsequent sections (all on the main/default directory)."
   ]
  },
  {
   "cell_type": "code",
   "execution_count": 1,
   "id": "b72f0fd0",
   "metadata": {},
   "outputs": [
    {
     "name": "stdout",
     "output_type": "stream",
     "text": [
      "Please select your input atlas file\n"
     ]
    },
    {
     "data": {
      "application/vnd.jupyter.widget-view+json": {
       "model_id": "6317500f848a40debd7746b335bd3e1e",
       "version_major": 2,
       "version_minor": 0
      },
      "text/plain": [
       "FileChooser(path='D:\\Documents\\gitDir\\monkeyTracts', filename='', title='HTML(value='', layout=Layout(display=…"
      ]
     },
     "metadata": {},
     "output_type": "display_data"
    }
   ],
   "source": [
    "#upload widget not working right now, just use path specification for current purposes\n",
    "#import ipywidgets as widgets\n",
    "#uploader = widgets.FileUpload()\n",
    "#uploader\n",
    "\n",
    "#set path to atlas\n",
    "from ipyfilechooser import FileChooser\n",
    "import os\n",
    "\n",
    "# Create and display a FileChooser widget\n",
    "# if a file has already been selected, do not revert to no file selected\n",
    "if 'fcAtlas' in locals():\n",
    "    #however, if the selected file path is None, do rectify that\n",
    "    if fcAtlas.selected_path==None:\n",
    "        print('Please select your input atlas file')\n",
    "        fcAtlas = FileChooser(os.getcwd())\n",
    "        display(fcAtlas)\n",
    "#if it doesn't exist at all (not sure how that would happen) also be sure to rectify that\n",
    "elif not('fcAtlas' in locals()):\n",
    "    fcAtlas = FileChooser(os.getcwd())\n",
    "    print('Please select your input atlas file')\n",
    "    display(fcAtlas)"
   ]
  },
  {
   "cell_type": "markdown",
   "id": "1349fc44",
   "metadata": {},
   "source": [
    "Now that we have selected the file, let's take a look at it.  Feel free to use the X, Y, and Z sliders to move about the atlas volume."
   ]
  },
  {
   "cell_type": "code",
   "execution_count": 26,
   "id": "3f175e0a",
   "metadata": {},
   "outputs": [
    {
     "data": {
      "text/plain": [
       "<Figure size 640x480 with 0 Axes>"
      ]
     },
     "metadata": {},
     "output_type": "display_data"
    },
    {
     "data": {
      "application/vnd.jupyter.widget-view+json": {
       "model_id": "776cd931882c4f11891a1b6f82cf0381",
       "version_major": 2,
       "version_minor": 0
      },
      "text/plain": [
       "interactive(children=(IntSlider(value=127, continuous_update=False, description='x', max=255), IntSlider(value…"
      ]
     },
     "metadata": {},
     "output_type": "display_data"
    }
   ],
   "source": [
    "#conditionally plot the atlas if a file has been chosen.  If not, print warning.\n",
    "#this might be avoidable with a clever use of observe\n",
    "\n",
    "import copy\n",
    "if not(fcAtlas.selected_path==None):\n",
    "    pathToAtlas=os.path.join(fcAtlas.selected_path,fcAtlas.selected_filename)\n",
    "    #load the nifti\n",
    "    import nibabel as nib\n",
    "    atlasImg = nib.load(pathToAtlas)\n",
    "    #now relabel it; maybe not necessary with monkey atlases, we'll see\n",
    "\n",
    "    #in order to have visually distinguishable areas we have to renumber the labels in the data object\n",
    "    #this is because niwidgets scales the color map via the min and max values of the labeling scheme,\n",
    "    #rather than by unique values\n",
    "    #this takes a while to perform, so if it already exists, check, load it, and don't do it again.\n",
    "    if os.path.isfile('relabeledAtlas.nii.gz'):\n",
    "        relabeledAtlas = nib.load('relabeledAtlas.nii.gz')\n",
    "    else:\n",
    "        #need to make a deep copy, otherwise the relabeling process relabels the origional\n",
    "        relabeledAtlas=copy.deepcopy(atlasImg.get_fdata())\n",
    "\n",
    "        #get the unique entries\n",
    "        import numpy as np\n",
    "        uniqueAtlasEntries=np.unique(relabeledAtlas).astype(int)\n",
    "\n",
    "        #iterate across unique label entries\n",
    "        for iLabels in range(len(uniqueAtlasEntries)):\n",
    "            #replace the current uniqueAtlasEntries value with the iLabels value\n",
    "            #constitutes a simple renumbering schema\n",
    "            relabeledAtlas[relabeledAtlas==uniqueAtlasEntries[iLabels]]=iLabels\n",
    "\n",
    "        #save to working directory; required as nifitWidget doesn't load from object apparently\n",
    "        renumberedAtlasNifti=nib.Nifti1Image(relabeledAtlas, atlasImg.affine, atlasImg.header)  \n",
    "        #save the object down\n",
    "        nib.save(renumberedAtlasNifti, 'relabeledAtlas.nii.gz')\n",
    "\n",
    "    from niwidgets import NiftiWidget\n",
    "    atlas_widget = NiftiWidget('relabeledAtlas.nii.gz')\n",
    "    atlas_widget.nifti_plotter(colormap='nipy_spectral')\n",
    "else:\n",
    "    print('No input atlas file selected.  Please return to previous cell, select an atlas file, and rerun this cell.')"
   ]
  },
  {
   "cell_type": "markdown",
   "id": "7f8e02ef",
   "metadata": {},
   "source": [
    "Next we'll select the Lookup table for the atlas you have provided.  The Lookup table provides information about the correspondances of the numerical labels in the atlas file you just provided with the anatomical/conceptual entities they are supposed to designate (as described [here, in a broad manner](https://dannbullock.github.io/WiMSE/notebooks/How_to_interpret_a_volumetric_brain_segmentation.html) and [here, in the context of color lookup tables](https://www.slicer.org/wiki/Documentation/4.1/SlicerApplication/LookupTables).\n",
    "\n",
    "We will be using an interactive interface with a spreadsheet version of the lookup table in order to select which labels will be required endpoints for our streamlines of interest.  Technically you do not need to provide an Lookup table, as this notebook will peice together a spreadsheet label-selection interface in one is not found, however such an interface will have no terminology-based labeling information and will thus be fairly difficult to interpret or work with. "
   ]
  },
  {
   "cell_type": "code",
   "execution_count": 3,
   "id": "b0e5757a",
   "metadata": {},
   "outputs": [
    {
     "name": "stdout",
     "output_type": "stream",
     "text": [
      "Please select your input Lookup table file\n"
     ]
    },
    {
     "data": {
      "application/vnd.jupyter.widget-view+json": {
       "model_id": "63ebd4c5434d4029bc56344ac00447ac",
       "version_major": 2,
       "version_minor": 0
      },
      "text/plain": [
       "FileChooser(path='D:\\Documents\\gitDir\\monkeyTracts', filename='', title='HTML(value='', layout=Layout(display=…"
      ]
     },
     "metadata": {},
     "output_type": "display_data"
    }
   ],
   "source": [
    "if 'fcLUT' in locals():\n",
    "    #however, if the selected file path is None, do rectify that\n",
    "    if fcLUT.selected_path==None:\n",
    "        print('Please select your input Lookup table file')\n",
    "        fcLUT = FileChooser(os.getcwd())\n",
    "        display(fcLUT)\n",
    "#if it doesn't exist at all (not sure how that would happen) also be sure to rectify that\n",
    "elif not('fcLUT' in locals()):\n",
    "    fcLUT = FileChooser(os.getcwd())\n",
    "    print('Please select your input Lookup table file')\n",
    "    display(fcLUT)"
   ]
  },
  {
   "cell_type": "markdown",
   "id": "98c7f103",
   "metadata": {},
   "source": [
    "Lets take a quick look at the LUT that has been provided (or that will be built) using [qgrid](https://github.com/quantopian/qgrid)."
   ]
  },
  {
   "cell_type": "code",
   "execution_count": 19,
   "id": "eb4c6bc3",
   "metadata": {},
   "outputs": [
    {
     "data": {
      "application/vnd.jupyter.widget-view+json": {
       "model_id": "9501daf54bfe4175959d64f0ae932ae7",
       "version_major": 2,
       "version_minor": 0
      },
      "text/plain": [
       "QgridWidget(grid_options={'fullWidthRows': True, 'syncColumnCellResize': True, 'forceFitColumns': True, 'defau…"
      ]
     },
     "metadata": {},
     "output_type": "display_data"
    }
   ],
   "source": [
    "#conditionally plot the atlas if a file has been chosen.  If not, build a table from the information in the passed atlas.\n",
    "#this might be avoidable with a clever use of observe\n",
    "import pandas as pd\n",
    "if not(fcLUT.selected_path==None):\n",
    "    LUTpath=os.path.join(fcLUT.selected_path,fcLUT.selected_filename)\n",
    "    if fcLUT.selected_filename[-4:]=='.csv':\n",
    "        LUT=pd.read_csv(LUTpath)\n",
    "    elif (fcLUT.selected_filename[-4:]=='.xls',fcLUT.selected_filename[-5:]=='.xlsx'):\n",
    "        LUT=pd.read_excel(LUTpath)\n",
    "else:\n",
    "    #build it from the input data\n",
    "    import numpy as np\n",
    "    inferredLUTIdentities={'origLabels': np.unique(atlasImg.get_fdata()).astype(int),'newLabels':np.unique(relabeledAtlas).astype(int)}\n",
    "    LUT=pd.DataFrame(data=inferredLUTIdentities)  \n",
    "\n",
    "#one way or the other the LUT should now be available\n",
    "import qgrid\n",
    "qgrid_firstLUT_widget= qgrid.show_grid(LUT,show_toolbar=True)\n",
    "qgrid_firstLUT_widget"
   ]
  },
  {
   "cell_type": "markdown",
   "id": "7ee33373",
   "metadata": {},
   "source": [
    "Next, let's select the tractogram file.  Due to the [RAM limitations of binder](https://mybinder.readthedocs.io/en/latest/about/about.html#how-much-memory-am-i-given-when-using-binder), it is **strongly** recomend that you limit the size of the uploaded tractogram to less than 1.25 GB."
   ]
  },
  {
   "cell_type": "code",
   "execution_count": 7,
   "id": "56a2486e",
   "metadata": {},
   "outputs": [
    {
     "name": "stdout",
     "output_type": "stream",
     "text": [
      "Please select your input tractogram file\n"
     ]
    },
    {
     "data": {
      "application/vnd.jupyter.widget-view+json": {
       "model_id": "73165ee1a493437399809cbe1c33ea61",
       "version_major": 2,
       "version_minor": 0
      },
      "text/plain": [
       "FileChooser(path='D:\\Documents\\gitDir\\monkeyTracts', filename='', title='HTML(value='', layout=Layout(display=…"
      ]
     },
     "metadata": {},
     "output_type": "display_data"
    }
   ],
   "source": [
    "# Create and display a FileChooser widget\n",
    "# if a file has already been selected, do not revert to no file selected\n",
    "if 'fcTractogram' in locals():\n",
    "    #however, if the selected file path is None, do rectify that\n",
    "    if fcTractogram.selected_path==None:\n",
    "        print('Please select your input tractogram file')\n",
    "        fcTractogram = FileChooser(os.getcwd())\n",
    "        display(fcTractogram)\n",
    "#if it doesn't exist at all (not sure how that would happen) also be sure to rectify that\n",
    "elif not('fcTractogram' in locals()):\n",
    "    fcTractogram = FileChooser(os.getcwd())\n",
    "    print('Please select your input tractogram file')\n",
    "    display(fcTractogram)"
   ]
  },
  {
   "cell_type": "markdown",
   "id": "be7573a2",
   "metadata": {},
   "source": [
    "Now that you have selected your tractogram, lets interactively view it.\n",
    "\n",
    "**NOTE**: due to [an ipyvolume idiosyncracy](https://github.com/maartenbreddels/ipyvolume/issues/206) the following visualization widget will begin in an extremely zoomed out state.  Use your middle mouse button (or mouse scroll inteface) to zoom in on the tracrogram visualization)"
   ]
  },
  {
   "cell_type": "code",
   "execution_count": 8,
   "id": "d6f174a2",
   "metadata": {},
   "outputs": [
    {
     "name": "stdout",
     "output_type": "stream",
     "text": [
      "Plotting tractogram for all 22500 streamlines.\n"
     ]
    },
    {
     "data": {
      "application/vnd.jupyter.widget-view+json": {
       "model_id": "3e6e242bd21d4368b008c33944e70999",
       "version_major": 2,
       "version_minor": 0
      },
      "text/plain": [
       "VBox(children=(Figure(camera=PerspectiveCamera(fov=46.0, position=(0.0, 0.0, 2.0), projectionMatrix=(1.0, 0.0,…"
      ]
     },
     "metadata": {},
     "output_type": "display_data"
    },
    {
     "data": {
      "application/vnd.jupyter.widget-view+json": {
       "model_id": "1df33c8b4f334ebbb5653cf218c9759f",
       "version_major": 2,
       "version_minor": 0
      },
      "text/plain": [
       "interactive(children=(FloatSlider(value=9.32571029663086, continuous_update=False, description='threshold', ma…"
      ]
     },
     "metadata": {},
     "output_type": "display_data"
    },
    {
     "data": {
      "text/plain": [
       "None"
      ]
     },
     "metadata": {},
     "output_type": "display_data"
    }
   ],
   "source": [
    "import nibabel as nib\n",
    "#conditionally plot the tractogram if a file has been chosen.  If not, print warning.\n",
    "#this might be avoidable with a clever use of observe\n",
    "if not(fcTractogram.selected_path==None):   \n",
    "    tractogramPath=(os.path.join(fcTractogram.selected_path,fcTractogram.selected_filename))\n",
    "    #compute size and throw warning or error if file size too \n",
    "    tractogramGBSize=os.path.getsize(tractogramPath)/(1024*1024*1024)\n",
    "    if 2>tractogramGBSize>1.25:\n",
    "        import warnings\n",
    "        warnings.warn(\"Input size of tractogram (\"+str(tractogramGBSize)+\"GB) exceeds recomended value\")\n",
    "    elif tractogramGBSize>2: \n",
    "        raise ValueError(\"Input size of tractogram (\"+str(tractogramGBSize)+\"GB) exceeds maximum RAM allocation\")\n",
    "\n",
    "    #do a check to see if the selected input file type is supported\n",
    "    if not(nib.streamlines.is_supported(tractogramPath)):\n",
    "        raise ValueError(\"Input tractogram file type not supported\")\n",
    "    else:\n",
    "        streamsObjIN=nib.streamlines.load(tractogramPath)\n",
    "\n",
    "    def plotParcellationConnectionWidget(tractogramToPlot):\n",
    "        #import widget\n",
    "        from niwidgets import StreamlineWidget\n",
    "        #set widget object\n",
    "    \n",
    "        sw = StreamlineWidget(streamlines=tractogramToPlot.streamlines)\n",
    "        #set plotting characteristics\n",
    "        style = {'axes': {'color': 'red',\n",
    "                      'label': {'color': 'white'},\n",
    "                      'ticklabel': {'color': 'white'},\n",
    "                      'visible': False},\n",
    "             'background-color': 'black',\n",
    "             'box': {'visible': False}}\n",
    "        \n",
    "        #plot it\n",
    "        #set a viable threshold for how many streamlines to default to plotting\n",
    "        #likely dependant on available resources and such\n",
    "        streamThresh=25000\n",
    "        if len(tractogramToPlot.streamlines)<=streamThresh:\n",
    "            defaultPercentile=0\n",
    "            print('Plotting tractogram for all ' + str(len(tractogramToPlot.streamlines)) + ' streamlines.') \n",
    "        else:\n",
    "            defaultPercentile=1-(len(tractogramToPlot.streamlines)/streamThresh)\n",
    "            print('Plotting tractogram for ' + str(((1-defaultPercentile)*streamThresh)) +' of ' + str(len(streamsObjIN.streamlines)) + ' streamlines.')\n",
    "      \n",
    "        sw.plot(display_fraction=1, width=1000, height=1000, style=style, percentile=defaultPercentile)\n",
    "    display(plotParcellationConnectionWidget(tractogramToPlot=streamsObjIN))\n",
    "else:\n",
    "    print('No input atlas file selected.  Please return to previous cell, select an atlas file, and rerun this cell.')"
   ]
  },
  {
   "cell_type": "markdown",
   "id": "3a8956e2",
   "metadata": {},
   "source": [
    "Now we'll use [dipy](https://dipy.org/) to perform a _full segmentation_ (as demonstrated and described [here](https://dannbullock.github.io/WiMSE/notebooks/A_first_segmentation.html)) and then, using the aforementioned Looktable interface, select those labels that we wish to require our streamlines of interest to have endpoints in.  The goal of this is two-fold.  First, the resultant heatmap plot gives us an impression (however abstract) of the overall pattern of connectivity instantiated in our input tractome.  Second, the pre-application of this segmentation makes the later selection of streamlines _much_ simpler.\n",
    "\n",
    "**NOTE**: This process may take a non-trivial amount of time to complete.\n",
    "\n",
    "**ALSO NOTE**:  In order to avoid accidentally rerunning this next cell, a check is performed to see if it has been run previously.  If so, it does not run again.  _However, this means that if a new atlas or tractogram is loaded in the earlier cells, it will be necessary to restart this entire notebook (e.g. under the kernel option in the menu bar, select \"restart\")_."
   ]
  },
  {
   "cell_type": "code",
   "execution_count": 10,
   "id": "4c6f1599",
   "metadata": {},
   "outputs": [
    {
     "data": {
      "image/png": "[encoded data removed]",
      "text/plain": [
       "<Figure size 640x480 with 2 Axes>"
      ]
     },
     "metadata": {},
     "output_type": "display_data"
    }
   ],
   "source": [
    "# if a file has already been selected, do not revert to no file selected\n",
    "if not('M' in locals()):\n",
    "    from dipy.tracking import utils\n",
    "    #segment tractome into connectivity matrix from parcellation\n",
    "    M, grouping=utils.connectivity_matrix(streamsObjIN.tractogram.streamlines, atlasImg.affine, label_volume=relabeledAtlas.astype(int),\n",
    "                            return_mapping=True,\n",
    "                            mapping_as_streamlines=False)\n",
    "import numpy as np\n",
    "import seaborn as sns\n",
    "import matplotlib.pyplot as plt\n",
    "sns.heatmap(np.log1p(M))\n",
    "plt.show()"
   ]
  },
  {
   "cell_type": "markdown",
   "id": "f7fcd260",
   "metadata": {},
   "source": [
    "Now, lets use qgrid once more, but this time, you (the user) will be tasked with modifying the table in accordance with your segmentation goals.  In the table below, use the information in the column associated with anatomical terminology (if available) to select the labels that you wish to use as endpoint criteria for selecting streamlines.  Feel free to use the search functionality of the table by clicking the symbol beside a column's name.\n",
    "\n",
    "To add a label to a either criteria \"region1\" or criteria \"region2\" place a value of **1** (as in the form of a **boolean vector** in the corresponding column.  The labels will be combined into \"region1\" and \"region2\" in accordance with this input, and (in the next cell) the ccoresponding streamlines will be displayed.\n",
    "\n",
    "**Take care when making these entries as it can be easy to reset the jupyter cell type to \"Markdown\" when making this selection.  If this happens, reset the cell type to \"Code\" and rerun the cell\"**"
   ]
  },
  {
   "cell_type": "code",
   "execution_count": 42,
   "id": "2869e269",
   "metadata": {
    "editable": false
   },
   "outputs": [
    {
     "data": {
      "application/vnd.jupyter.widget-view+json": {
       "model_id": "69c1d621a7b9415baf1e678c6ddb81b7",
       "version_major": 2,
       "version_minor": 0
      },
      "text/plain": [
       "QgridWidget(grid_options={'fullWidthRows': True, 'syncColumnCellResize': True, 'forceFitColumns': True, 'defau…"
      ]
     },
     "metadata": {},
     "output_type": "display_data"
    }
   ],
   "source": [
    "# if the length of the provided LUT exceeds the number of unique entries, then the indexes of the table cannot be relied\n",
    "#upon to provide us with the correspondance to the relabeled atlas.  If this is the case, try and implement a workaround.\n",
    "if len(LUT)>len(np.unique(relabeledAtlas)):\n",
    "    #infer which column contains the original identities\n",
    "    #presumably, this would be the LUT column with the largest number of matching labels with the original atlas.\n",
    "    matchingLabelsCount=[len(list(set(LUT[iColumns]).intersection(set(np.unique(atlasImg.get_fdata()).astype(int))))) for iColumns in LUT.columns.to_list()]\n",
    "    #there's an edge case here relabeled atlas == the original atlas AND the provided LUT was larger (what would the extra entries be?)\n",
    "    #worry about that later\n",
    "    columnBestGuess=LUT.columns.to_list()[matchingLabelsCount.index(np.max(matchingLabelsCount))]\n",
    "    #now that we have the guess, get the corresponding row entries, and reset the index.\n",
    "    #This should make the index match the renumbered label values.\n",
    "    LUTinterface=LUT[LUT[columnBestGuess].isin(np.unique(atlasImg.get_fdata()).astype(int)).values].reset_index(drop=True)\n",
    "    \n",
    "#proceed with working with the LUT.  Here we add the columns for selecting labels for segmentation / streamline extraction.\n",
    "if not(\"region1\" in LUTinterface.columns):\n",
    "    LUTinterface.insert(0, \"region1\", np.zeros([ len(LUTinterface),1],dtype=int), True)\n",
    "if not(\"region2\" in LUTinterface.columns):\n",
    "    LUTinterface.insert(1, \"region2\", np.zeros([ len(LUTinterface),1],dtype=int), True)\n",
    "\n",
    "seg_entryTable_widget=qgrid.show_grid(LUTinterface,show_toolbar=True)\n",
    "seg_entryTable_widget"
   ]
  },
  {
   "cell_type": "markdown",
   "id": "4d9b1bcf",
   "metadata": {},
   "source": [
    "To now perform the segmentation (after having made the above selection) run the next cell.  The streamlines displayed are those that have one endpoint in one the labels with 1 in the \"region1\" column and one endpoint in one the labels with 1 in the \"region2\" column.\n",
    "\n",
    "**Remember**: the visualization starts fairly far out--be sure to zoom in."
   ]
  },
  {
   "cell_type": "code",
   "execution_count": 47,
   "id": "3e754e1b",
   "metadata": {},
   "outputs": [
    {
     "name": "stdout",
     "output_type": "stream",
     "text": [
      "Plotting tractogram for all 5 streamlines.\n"
     ]
    },
    {
     "data": {
      "application/vnd.jupyter.widget-view+json": {
       "model_id": "048642d447a74abba7a5b8277e809bdf",
       "version_major": 2,
       "version_minor": 0
      },
      "text/plain": [
       "VBox(children=(Figure(camera=PerspectiveCamera(fov=46.0, position=(0.0, 0.0, 2.0), projectionMatrix=(1.0, 0.0,…"
      ]
     },
     "metadata": {},
     "output_type": "display_data"
    },
    {
     "data": {
      "application/vnd.jupyter.widget-view+json": {
       "model_id": "8f439d026290434dae7d40ead8a26c75",
       "version_major": 2,
       "version_minor": 0
      },
      "text/plain": [
       "interactive(children=(FloatSlider(value=39.74176788330078, continuous_update=False, description='threshold', m…"
      ]
     },
     "metadata": {},
     "output_type": "display_data"
    },
    {
     "data": {
      "text/plain": [
       "None"
      ]
     },
     "metadata": {},
     "output_type": "display_data"
    }
   ],
   "source": [
    "#define a function that will be used to select streamlines from a larger tractogram\n",
    "def extractSubTractogram(sourceTractogram,indexes):\n",
    "    #import relevant package\n",
    "    import nibabel as nib\n",
    "    #extrect the desired streamlines into a new streamline object\n",
    "    streamlines = sourceTractogram.streamlines[indexes]\n",
    "    #establish tractogram object\n",
    "    out_tractogram = nib.streamlines.tractogram.Tractogram(streamlines)\n",
    "    return out_tractogram\n",
    "\n",
    "segTable=seg_entryTable_widget.get_changed_df()\n",
    "#check to make sure regions have actually be selected\n",
    "if sum(segTable['region1'].values)>0 and sum(segTable['region2'].values)>0:\n",
    "    #find the indexes for all of the labels that have been selected\n",
    "    region1Indexes=segTable[segTable['region1']==1].index.to_list()\n",
    "    region2Indexes=segTable[segTable['region2']==1].index.to_list()\n",
    "    import itertools\n",
    "    #find all of the combinations of the selected labels\n",
    "    permutationsLabels = list(itertools.product(region1Indexes, region2Indexes))\n",
    "    #create a flipped version of that (because we don't care about the orientation of the streamlines)\n",
    "    flippedLabels= [x[::-1] for x in permutationsLabels]\n",
    "    #combine those lists\n",
    "    combinedLabels=permutationsLabels+flippedLabels\n",
    "    #find the intersection of those combinations and the keys from the dipy tractome segmentation\n",
    "    validKeys=list(set(grouping.keys()).intersection(set(combinedLabels)))\n",
    "    #find the streamlines these connections correspond to\n",
    "    validStreamList=[grouping[iConnections] for iConnections in validKeys]\n",
    "    #convert that list of lists into a single list\n",
    "    validStreamlines=list(itertools.chain.from_iterable(validStreamList))\n",
    "    streamsToPlot=extractSubTractogram(streamsObjIN,validStreamlines)\n",
    "    display(plotParcellationConnectionWidget(streamsToPlot))\n",
    "else:\n",
    "    print('either region1 or region2 lacks selected labels.  Return to previous selection cell and select labels for both regions.')"
   ]
  },
  {
   "cell_type": "code",
   "execution_count": 46,
   "id": "405f7857",
   "metadata": {},
   "outputs": [
    {
     "data": {
      "text/plain": [
       "ArraySequence([array([[10.4651375, 36.034332 ,  8.589023 ],\n",
       "       [10.65086  , 35.37566  ,  9.317402 ],\n",
       "       [10.83515  , 34.773483 , 10.091226 ],\n",
       "       [11.018761 , 34.32679  , 10.965457 ],\n",
       "       [11.119286 , 33.97766  , 11.896573 ],\n",
       "       [11.114207 , 33.73025  , 12.86389  ],\n",
       "       [10.999359 , 33.508743 , 13.8315735],\n",
       "       [10.8562155, 33.21457  , 14.776329 ],\n",
       "       [10.721183 , 32.810585 , 15.679682 ],\n",
       "       [10.618377 , 32.302086 , 16.534117 ],\n",
       "       [10.495177 , 31.661911 , 17.287382 ],\n",
       "       [10.269471 , 30.939407 , 17.94032  ],\n",
       "       [10.045673 , 30.181398 , 18.551239 ],\n",
       "       [ 9.871142 , 29.323446 , 19.0308   ],\n",
       "       [ 9.722102 , 28.393423 , 19.364655 ],\n",
       "       [ 9.613212 , 27.448137 , 19.671528 ],\n",
       "       [ 9.476477 , 26.564184 , 20.112633 ],\n",
       "       [ 9.258484 , 25.770445 , 20.679678 ],\n",
       "       [ 8.970458 , 24.94857  , 21.165913 ],\n",
       "       [ 8.654316 , 24.087032 , 21.562943 ],\n",
       "       [ 8.250837 , 23.310099 , 22.04022  ],\n",
       "       [ 7.769926 , 22.6404   , 22.605597 ],\n",
       "       [ 7.341468 , 21.959826 , 23.199053 ],\n",
       "       [ 6.9371796, 21.304108 , 23.835073 ],\n",
       "       [ 6.602709 , 20.58839  , 24.440376 ],\n",
       "       [ 6.3892713, 19.846796 , 25.071032 ],\n",
       "       [ 6.3022385, 19.142048 , 25.77186  ],\n",
       "       [ 6.4042625, 18.351603 , 26.372225 ],\n",
       "       [ 6.59613  , 17.530243 , 26.909399 ],\n",
       "       [ 6.8924384, 16.735043 , 27.434729 ],\n",
       "       [ 7.325325 , 15.987368 , 27.937813 ],\n",
       "       [ 7.71415  , 15.281111 , 28.525187 ],\n",
       "       [ 7.9712634, 14.611315 , 29.221075 ],\n",
       "       [ 8.149408 , 13.942132 , 29.942299 ],\n",
       "       [ 8.306452 , 13.24954  , 30.646133 ],\n",
       "       [ 8.447055 , 12.507693 , 31.301197 ],\n",
       "       [ 8.428118 , 11.717207 , 31.90821  ],\n",
       "       [ 8.208273 , 10.993982 , 32.559032 ],\n",
       "       [ 7.8897614, 10.343379 , 33.247955 ],\n",
       "       [ 7.568759 ,  9.64386  , 33.885593 ],\n",
       "       [ 7.1813006,  9.015411 , 34.553913 ],\n",
       "       [ 6.983391 ,  8.803762 , 34.84896  ]], dtype=float32), array([[-51.837082  , -21.871489  , -14.370708  ],\n",
       "       [-51.666718  , -22.824755  , -14.617325  ],\n",
       "       [-51.46378   , -23.784374  , -14.812103  ],\n",
       "       [-51.18193   , -24.719172  , -15.022321  ],\n",
       "       [-50.82688   , -25.625132  , -15.252826  ],\n",
       "       [-50.429276  , -26.52445   , -15.428711  ],\n",
       "       [-50.00497   , -27.42805   , -15.465537  ],\n",
       "       [-49.676003  , -28.370478  , -15.4249115 ],\n",
       "       [-49.419678  , -29.335823  , -15.375987  ],\n",
       "       [-49.170006  , -30.302477  , -15.319187  ],\n",
       "       [-48.98933   , -31.278612  , -15.208305  ],\n",
       "       [-48.872845  , -32.243767  , -14.977462  ],\n",
       "       [-48.743164  , -33.181637  , -14.656066  ],\n",
       "       [-48.563072  , -34.093174  , -14.287335  ],\n",
       "       [-48.28357   , -34.9771    , -13.914483  ],\n",
       "       [-47.925816  , -35.82904   , -13.532749  ],\n",
       "       [-47.52608   , -36.62989   , -13.087891  ],\n",
       "       [-47.039402  , -37.342564  , -12.58511   ],\n",
       "       [-46.46165   , -37.990227  , -12.089052  ],\n",
       "       [-45.84715   , -38.61576   , -11.608489  ],\n",
       "       [-45.21047   , -39.212547  , -11.120327  ],\n",
       "       [-44.561108  , -39.75528   , -10.588926  ],\n",
       "       [-43.890785  , -40.198425  ,  -9.994905  ],\n",
       "       [-43.197075  , -40.572052  ,  -9.379193  ],\n",
       "       [-42.53257   , -40.960472  ,  -8.741185  ],\n",
       "       [-41.88363   , -41.380474  ,  -8.106894  ],\n",
       "       [-41.217495  , -41.812984  ,  -7.499324  ],\n",
       "       [-40.581635  , -42.26895   ,  -6.877198  ],\n",
       "       [-39.99914   , -42.784233  ,  -6.2492037 ],\n",
       "       [-39.488167  , -43.343903  ,  -5.5979753 ],\n",
       "       [-38.99479   , -43.9346    ,  -4.9608946 ],\n",
       "       [-38.503635  , -44.582832  ,  -4.379705  ],\n",
       "       [-38.040306  , -45.246147  ,  -3.7921486 ],\n",
       "       [-37.57965   , -45.93326   ,  -3.2310896 ],\n",
       "       [-37.18613   , -46.70931   ,  -2.7405891 ],\n",
       "       [-36.813896  , -47.54549   ,  -2.339335  ],\n",
       "       [-36.392036  , -48.357506  ,  -1.9376941 ],\n",
       "       [-35.956783  , -49.13614   ,  -1.4857224 ],\n",
       "       [-35.51836   , -49.904762  ,  -1.0200174 ],\n",
       "       [-35.101032  , -50.681473  ,  -0.548684  ],\n",
       "       [-34.7206    , -51.511116  ,  -0.14185339],\n",
       "       [-34.419918  , -52.397907  ,   0.2065055 ],\n",
       "       [-34.164814  , -53.3107    ,   0.5247307 ],\n",
       "       [-33.804104  , -54.19602   ,   0.81390846],\n",
       "       [-33.304356  , -55.017155  ,   1.0867096 ],\n",
       "       [-32.748383  , -55.782013  ,   1.4096576 ],\n",
       "       [-32.21434   , -56.53762   ,   1.7886462 ],\n",
       "       [-31.698092  , -57.319084  ,   2.1388285 ],\n",
       "       [-31.228577  , -58.141685  ,   2.4578383 ],\n",
       "       [-30.779818  , -58.98798   ,   2.7441564 ],\n",
       "       [-30.323025  , -59.829407  ,   3.0323048 ],\n",
       "       [-29.93579   , -60.700764  ,   3.331684  ],\n",
       "       [-29.598583  , -61.602333  ,   3.6025753 ],\n",
       "       [-29.240568  , -62.502823  ,   3.8491101 ],\n",
       "       [-28.866783  , -63.397854  ,   4.0924034 ],\n",
       "       [-28.565594  , -64.324196  ,   4.313792  ],\n",
       "       [-28.32658   , -65.27642   ,   4.5038404 ],\n",
       "       [-28.087952  , -66.22943   ,   4.6903787 ],\n",
       "       [-27.831478  , -67.18574   ,   4.827014  ],\n",
       "       [-27.543924  , -68.13964   ,   4.9128532 ],\n",
       "       [-27.221668  , -69.08143   ,   5.00684   ],\n",
       "       [-26.933031  , -70.0274    ,   5.148132  ],\n",
       "       [-26.690832  , -70.97801   ,   5.341722  ],\n",
       "       [-26.477112  , -71.925285  ,   5.578428  ],\n",
       "       [-26.35001   , -72.872574  ,   5.8711314 ],\n",
       "       [-26.297485  , -73.81073   ,   6.2125516 ],\n",
       "       [-26.336348  , -74.75958   ,   6.5225105 ],\n",
       "       [-26.423378  , -75.70656   ,   6.830234  ],\n",
       "       [-26.500195  , -76.63451   ,   7.1949263 ],\n",
       "       [-26.571484  , -77.57432   ,   7.5282755 ],\n",
       "       [-26.68197   , -78.50181   ,   7.8825665 ],\n",
       "       [-26.829582  , -79.3994    ,   8.297923  ],\n",
       "       [-26.926754  , -80.31801   ,   8.679295  ],\n",
       "       [-26.978796  , -81.25555   ,   9.023255  ],\n",
       "       [-27.02328   , -82.1911    ,   9.373589  ],\n",
       "       [-27.050007  , -82.98026   ,   9.6724    ]], dtype=float32), array([[-36.523335, -57.266804,  12.07671 ],\n",
       "       [-35.738964, -57.82185 ,  12.353569],\n",
       "       [-34.962708, -58.38219 ,  12.642042],\n",
       "       [-34.21309 , -58.953266,  12.976205],\n",
       "       [-33.494526, -59.527164,  13.36844 ],\n",
       "       [-32.7951  , -60.09387 ,  13.803856],\n",
       "       [-32.08237 , -60.624393,  14.262315],\n",
       "       [-31.356176, -61.126717,  14.73169 ],\n",
       "       [-30.63725 , -61.639538,  15.200845],\n",
       "       [-29.931494, -62.162987,  15.67821 ],\n",
       "       [-29.209377, -62.65766 ,  16.161324],\n",
       "       [-28.450686, -63.108727,  16.631159],\n",
       "       [-27.679073, -63.574623,  17.063637],\n",
       "       [-26.920061, -64.091064,  17.45983 ],\n",
       "       [-26.1832  , -64.633514,  17.86312 ],\n",
       "       [-25.486113, -65.20405 ,  18.29677 ],\n",
       "       [-24.79683 , -65.79846 ,  18.710348],\n",
       "       [-24.068579, -66.38355 ,  19.066698],\n",
       "       [-23.324276, -66.96022 ,  19.403542],\n",
       "       [-22.583513, -67.53626 ,  19.749134],\n",
       "       [-21.844032, -68.11008 ,  20.10113 ],\n",
       "       [-21.082466, -68.6498  ,  20.459127],\n",
       "       [-20.313974, -69.16996 ,  20.831522],\n",
       "       [-19.562973, -69.707214,  21.215385],\n",
       "       [-18.81628 , -70.22441 ,  21.633032],\n",
       "       [-18.072529, -70.70022 ,  22.102293],\n",
       "       [-17.338428, -71.14225 ,  22.61743 ],\n",
       "       [-16.606358, -71.590324,  23.13012 ],\n",
       "       [-15.868711, -72.0643  ,  23.610966],\n",
       "       [-15.15282 , -72.56898 ,  24.09307 ],\n",
       "       [-14.435572, -73.064384,  24.582499],\n",
       "       [-13.6918  , -73.54247 ,  25.049292],\n",
       "       [-12.93447 , -74.01999 ,  25.494574],\n",
       "       [-12.152422, -74.454636,  25.940895],\n",
       "       [-11.350974, -74.86309 ,  26.377735],\n",
       "       [-10.528045, -75.255   ,  26.788694],\n",
       "       [ -9.704763, -75.66372 ,  27.182045],\n",
       "       [ -8.910573, -76.10591 ,  27.598621],\n",
       "       [ -8.125727, -76.53101 ,  28.049313],\n",
       "       [ -7.361446, -76.96739 ,  28.523579],\n",
       "       [ -6.815408, -77.32897 ,  28.882524]], dtype=float32), array([[ -3.7633598, -50.34695  ,  14.065195 ],\n",
       "       [ -3.8178215, -50.27045  ,  14.241778 ],\n",
       "       [ -3.871578 , -50.19573  ,  14.419335 ],\n",
       "       [ -3.9248707, -50.122513 ,  14.597659 ],\n",
       "       [ -3.9779074, -50.050545 ,  14.7765665],\n",
       "       [ -4.030863 , -49.979572 ,  14.955895 ],\n",
       "       [ -4.08388  , -49.90935  ,  15.135501 ],\n",
       "       [ -4.136524 , -49.83725  ,  15.31447  ],\n",
       "       [ -4.1873736, -49.757534 ,  15.490708 ],\n",
       "       [ -4.2360425, -49.67032  ,  15.663985 ],\n",
       "       [ -4.2821336, -49.575832 ,  15.8341255],\n",
       "       [ -4.325275 , -49.47442  ,  16.00102  ],\n",
       "       [ -4.3651576, -49.366535 ,  16.164639 ],\n",
       "       [ -4.4015636, -49.25273  ,  16.325022 ],\n",
       "       [ -4.434382 , -49.133614 ,  16.482292 ],\n",
       "       [ -4.4636073, -49.00982  ,  16.636631 ],\n",
       "       [ -4.489325 , -48.881973 ,  16.788267 ],\n",
       "       [ -4.5116916, -48.750668 ,  16.93746  ],\n",
       "       [ -4.530607 , -48.616932 ,  17.084963 ],\n",
       "       [ -4.545109 , -48.483288 ,  17.233046 ],\n",
       "       [ -4.555695 , -48.34986  ,  17.381657 ],\n",
       "       [ -4.562842 , -48.216763 ,  17.530767 ],\n",
       "       [ -4.5669923, -48.084084 ,  17.680365 ],\n",
       "       [ -4.5690722, -47.951443 ,  17.830038 ],\n",
       "       [ -4.5694857, -47.81879  ,  17.979713 ],\n",
       "       [ -4.568431 , -47.686237 ,  18.129477 ],\n",
       "       [ -4.566108 , -47.55389  ,  18.279406 ],\n",
       "       [ -4.56272  , -47.421837 ,  18.429575 ],\n",
       "       [ -4.5584655, -47.290157 ,  18.58005  ],\n",
       "       [ -4.5535417, -47.158916 ,  18.730885 ],\n",
       "       [ -4.5485168, -47.028267 ,  18.882229 ],\n",
       "       [ -4.54441  , -46.89837  ,  19.034246 ],\n",
       "       [ -4.541338 , -46.769054 ,  19.186787 ],\n",
       "       [ -4.539418 , -46.64014  ,  19.339685 ],\n",
       "       [ -4.538769 , -46.51143  ,  19.492764 ],\n",
       "       [ -4.5395055, -46.38271  ,  19.645834 ],\n",
       "       [ -4.5417395, -46.253765 ,  19.7987   ],\n",
       "       [ -4.545574 , -46.124374 ,  19.951159 ],\n",
       "       [ -4.5511026, -45.994328 ,  20.103003 ],\n",
       "       [ -4.558404 , -45.86342  ,  20.25403  ],\n",
       "       [ -4.5675397, -45.73146  ,  20.404043 ],\n",
       "       [ -4.5785513, -45.598293 ,  20.552855 ],\n",
       "       [ -4.5901947, -45.462772 ,  20.69948  ],\n",
       "       [ -4.6015525, -45.32359  ,  20.842655 ],\n",
       "       [ -4.6125546, -45.180336 ,  20.981785 ],\n",
       "       [ -4.6231084, -45.03268  ,  21.11627  ],\n",
       "       [ -4.6331   , -44.880413 ,  21.245558 ],\n",
       "       [ -4.6423965, -44.72349  ,  21.369207 ],\n",
       "       [ -4.650856 , -44.562046 ,  21.486952 ],\n",
       "       [ -4.6583405, -44.39637  ,  21.598736 ],\n",
       "       [ -4.66473  , -44.226887 ,  21.704727 ],\n",
       "       [ -4.669934 , -44.05408  ,  21.805285 ],\n",
       "       [ -4.6738944, -43.878464 ,  21.900906 ],\n",
       "       [ -4.676588 , -43.70052  ,  21.992168 ],\n",
       "       [ -4.6780186, -43.520687 ,  22.079678 ],\n",
       "       [ -4.678211 , -43.33934  ,  22.16402  ],\n",
       "       [ -4.677877 , -43.15683  ,  22.245815 ],\n",
       "       [ -4.6782446, -42.973404 ,  22.325531 ],\n",
       "       [ -4.6794696, -42.78921  ,  22.403452 ],\n",
       "       [ -4.6816773, -42.604404 ,  22.479881 ],\n",
       "       [ -4.6849647, -42.41913  ,  22.555128 ],\n",
       "       [ -4.689403 , -42.23353  ,  22.629509 ],\n",
       "       [ -4.695043 , -42.04774  ,  22.703342 ],\n",
       "       [ -4.70192  , -41.861904 ,  22.776949 ],\n",
       "       [ -4.710058 , -41.676155 ,  22.850643 ],\n",
       "       [ -4.719476 , -41.490623 ,  22.924734 ],\n",
       "       [ -4.7301927, -41.305443 ,  22.999521 ],\n",
       "       [ -4.7422295, -41.120743 ,  23.075293 ],\n",
       "       [ -4.7547574, -40.935944 ,  23.150738 ],\n",
       "       [ -4.7674794, -40.750732 ,  23.22514  ],\n",
       "       [ -4.780547 , -40.565147 ,  23.298534 ],\n",
       "       [ -4.7941203, -40.379223 ,  23.370972 ],\n",
       "       [ -4.808366 , -40.193    ,  23.442516 ],\n",
       "       [ -4.8234577, -40.006535 ,  23.51325  ],\n",
       "       [ -4.8395786, -39.81989  ,  23.583271 ],\n",
       "       [ -4.856921 , -39.63313  ,  23.652699 ],\n",
       "       [ -4.87729  , -39.44653  ,  23.721733 ],\n",
       "       [ -4.9010606, -39.26015  ,  23.790277 ],\n",
       "       [ -4.928546 , -39.074066 ,  23.858221 ],\n",
       "       [ -4.9600286, -38.888382 ,  23.925531 ],\n",
       "       [ -4.994889 , -38.703613 ,  23.993692 ],\n",
       "       [ -5.0328074, -38.519783 ,  24.062746 ],\n",
       "       [ -5.0735154, -38.336887 ,  24.132687 ],\n",
       "       [ -5.1166353, -38.154873 ,  24.203482 ],\n",
       "       [ -5.161709 , -37.973644 ,  24.27507  ],\n",
       "       [ -5.2082305, -37.793064 ,  24.347368 ],\n",
       "       [ -5.2556877, -37.612976 ,  24.420277 ],\n",
       "       [ -5.3035936, -37.433212 ,  24.493689 ],\n",
       "       [ -5.351515 , -37.253613 ,  24.567495 ],\n",
       "       [ -5.399087 , -37.07404  ,  24.641588 ],\n",
       "       [ -5.446023 , -36.894375 ,  24.715868 ],\n",
       "       [ -5.4921894, -36.714607 ,  24.790386 ],\n",
       "       [ -5.5381637, -36.53543  ,  24.866426 ],\n",
       "       [ -5.5838456, -36.356827 ,  24.943977 ],\n",
       "       [ -5.6291485, -36.17879  ,  25.023039 ],\n",
       "       [ -5.6735935, -36.00127  ,  25.103727 ],\n",
       "       [ -5.713825 , -35.823948 ,  25.187025 ],\n",
       "       [ -5.7497683, -35.647007 ,  25.273048 ],\n",
       "       [ -5.7814016, -35.47063  ,  25.361876 ],\n",
       "       [ -5.808768 , -35.29499  ,  25.453537 ],\n",
       "       [ -5.8319764, -35.120247 ,  25.548018 ],\n",
       "       [ -5.8512006, -34.946537 ,  25.645254 ],\n",
       "       [ -5.866671 , -34.77396  ,  25.745146 ],\n",
       "       [ -5.8786645, -34.60259  ,  25.847557 ],\n",
       "       [ -5.88768  , -34.431953 ,  25.951494 ],\n",
       "       [ -5.8941565, -34.261696 ,  26.056236 ],\n",
       "       [ -5.898446 , -34.091755 ,  26.161604 ],\n",
       "       [ -5.900927 , -33.922062 ,  26.267427 ],\n",
       "       [ -5.9019914, -33.752537 ,  26.373543 ],\n",
       "       [ -5.902032 , -33.58309  ,  26.479792 ],\n",
       "       [ -5.901434 , -33.41363  ,  26.586012 ],\n",
       "       [ -5.900568 , -33.244053 ,  26.69204  ],\n",
       "       [ -5.8966575, -33.07297  ,  26.795557 ],\n",
       "       [ -5.889488 , -32.900253 ,  26.896141 ],\n",
       "       [ -5.879016 , -32.725838 ,  26.993456 ],\n",
       "       [ -5.865261 , -32.5497   ,  27.087196 ],\n",
       "       [ -5.8483047, -32.371853 ,  27.1771   ],\n",
       "       [ -5.826988 , -32.192486 ,  27.262962 ],\n",
       "       [ -5.800596 , -32.011887 ,  27.344738 ],\n",
       "       [ -5.769551 , -31.830263 ,  27.422512 ],\n",
       "       [ -5.734291 , -31.64781  ,  27.496454 ],\n",
       "       [ -5.6952467, -31.464705 ,  27.566797 ],\n",
       "       [ -5.652817 , -31.281109 ,  27.633821 ],\n",
       "       [ -5.6073537, -31.097162 ,  27.697824 ],\n",
       "       [ -5.559156 , -30.912987 ,  27.759115 ],\n",
       "       [ -5.5084615, -30.728695 ,  27.817991 ],\n",
       "       [ -5.4554486, -30.544386 ,  27.874733 ],\n",
       "       [ -5.4002366, -30.360153 ,  27.929594 ],\n",
       "       [ -5.3428884, -30.176085 ,  27.982794 ],\n",
       "       [ -5.2846165, -29.991875 ,  28.03448  ],\n",
       "       [ -5.22594  , -29.807384 ,  28.084684 ],\n",
       "       [ -5.1669116, -29.622477 ,  28.132896 ],\n",
       "       [ -5.1068335, -29.436884 ,  28.17701  ],\n",
       "       [ -5.0460258, -29.2506   ,  28.21702  ],\n",
       "       [ -4.984831 , -29.063625 ,  28.253014 ],\n",
       "       [ -4.923606 , -28.875961 ,  28.285168 ],\n",
       "       [ -4.8627152, -28.68761  ,  28.313744 ],\n",
       "       [ -4.803015 , -28.498495 ,  28.339645 ],\n",
       "       [ -4.7448773, -28.308605 ,  28.363352 ],\n",
       "       [ -4.68848  , -28.117966 ,  28.385166 ],\n",
       "       [ -4.6344805, -27.926489 ,  28.40568  ],\n",
       "       [ -4.5831885, -27.734169 ,  28.425226 ],\n",
       "       [ -4.5346756, -27.541054 ,  28.444006 ],\n",
       "       [ -4.4889836, -27.347197 ,  28.462215 ],\n",
       "       [ -4.4461274, -27.152657 ,  28.48004  ],\n",
       "       [ -4.406093 , -26.957497 ,  28.497652 ],\n",
       "       [ -4.3688407, -26.761784 ,  28.515211 ],\n",
       "       [ -4.3343062, -26.56558  ,  28.532858 ],\n",
       "       [ -4.3024063, -26.36895  ,  28.550716 ],\n",
       "       [ -4.2730393, -26.171955 ,  28.568897 ],\n",
       "       [ -4.245586 , -25.974709 ,  28.587336 ],\n",
       "       [ -4.21774  , -25.777477 ,  28.605352 ],\n",
       "       [ -4.189553 , -25.580256 ,  28.622927 ],\n",
       "       [ -4.161066 , -25.383036 ,  28.640032 ],\n",
       "       [ -4.132313 , -25.185812 ,  28.65664  ],\n",
       "       [ -4.1033177, -24.988579 ,  28.672718 ],\n",
       "       [ -4.0740967, -24.791334 ,  28.688234 ],\n",
       "       [ -4.044657 , -24.594076 ,  28.70315  ],\n",
       "       [ -4.014999 , -24.396803 ,  28.717424 ],\n",
       "       [ -3.9851139, -24.199516 ,  28.731016 ],\n",
       "       [ -3.9549863, -24.002218 ,  28.74388  ],\n",
       "       [ -3.9241116, -23.80498  ,  28.755863 ],\n",
       "       [ -3.8924682, -23.60781  ,  28.766928 ],\n",
       "       [ -3.8601515, -23.410698 ,  28.777054 ],\n",
       "       [ -3.8272533, -23.213634 ,  28.786215 ],\n",
       "       [ -3.7938623, -23.016611 ,  28.794378 ],\n",
       "       [ -3.760064 , -22.819616 ,  28.801504 ],\n",
       "       [ -3.725939 , -22.622643 ,  28.807543 ],\n",
       "       [ -3.6915648, -22.42568  ,  28.812435 ],\n",
       "       [ -3.6570132, -22.228722 ,  28.816114 ],\n",
       "       [ -3.622352 , -22.031763 ,  28.818502 ],\n",
       "       [ -3.5877655, -21.834784 ,  28.820084 ],\n",
       "       [ -3.5535405, -21.63774  ,  28.821438 ],\n",
       "       [ -3.519898 , -21.440594 ,  28.822653 ],\n",
       "       [ -3.4870732, -21.243309 ,  28.823828 ],\n",
       "       [ -3.455215 , -21.045864 ,  28.824749 ],\n",
       "       [ -3.4245038, -20.848238 ,  28.82548  ],\n",
       "       [ -3.3951507, -20.650406 ,  28.826199 ],\n",
       "       [ -3.3673751, -20.452347 ,  28.827097 ],\n",
       "       [ -3.3414028, -20.254044 ,  28.828379 ],\n",
       "       [ -3.3174627, -20.05549  ,  28.830256 ],\n",
       "       [ -3.2954984, -19.856726 ,  28.833439 ],\n",
       "       [ -3.2750022, -19.657864 ,  28.839273 ],\n",
       "       [ -3.2561336, -19.45894  ,  28.847837 ],\n",
       "       [ -3.239039 , -19.259995 ,  28.859177 ],\n",
       "       [ -3.223846 , -19.061073 ,  28.873297 ],\n",
       "       [ -3.2106576, -18.862223 ,  28.890163 ],\n",
       "       [ -3.199548 , -18.66349  ,  28.909702 ],\n",
       "       [ -3.1905603, -18.464918 ,  28.931807 ],\n",
       "       [ -3.183706 , -18.266546 ,  28.95634  ],\n",
       "       [ -3.1789663, -18.068407 ,  28.983147 ],\n",
       "       [ -3.1762953, -17.870525 ,  29.012053 ],\n",
       "       [ -3.1726701, -17.672583 ,  29.040434 ],\n",
       "       [ -3.1680992, -17.474594 ,  29.06836  ],\n",
       "       [ -3.1625993, -17.276575 ,  29.095896 ],\n",
       "       [ -3.1561878, -17.078539 ,  29.123106 ],\n",
       "       [ -3.148883 , -16.880497 ,  29.150047 ],\n",
       "       [ -3.1407056, -16.682459 ,  29.176771 ],\n",
       "       [ -3.1316767, -16.484436 ,  29.203325 ],\n",
       "       [ -3.1218202, -16.286436 ,  29.229755 ],\n",
       "       [ -3.111162 , -16.088467 ,  29.256105 ],\n",
       "       [ -3.0997305, -15.890534 ,  29.282413 ],\n",
       "       [ -3.0990317, -15.879179 ,  29.283913 ]], dtype=float32), array([[ -6.771947  , -50.50682   ,  11.945947  ],\n",
       "       [ -7.0789685 , -50.549118  ,  12.874961  ],\n",
       "       [ -7.2899117 , -50.8053    ,  13.8128805 ],\n",
       "       [ -7.7504654 , -50.716213  ,  14.659552  ],\n",
       "       [ -7.976881  , -50.68975   ,  15.552927  ],\n",
       "       [ -7.6754575 , -50.974144  ,  16.46178   ],\n",
       "       [ -7.4013715 , -51.097664  ,  17.40798   ],\n",
       "       [ -7.369501  , -50.62879   ,  18.24276   ],\n",
       "       [ -7.547583  , -49.782417  ,  18.738998  ],\n",
       "       [ -7.834015  , -49.139084  ,  19.40709   ],\n",
       "       [ -7.7742014 , -48.764637  ,  20.284594  ],\n",
       "       [ -7.208345  , -48.122158  ,  20.749424  ],\n",
       "       [ -6.725501  , -47.429047  ,  21.235542  ],\n",
       "       [ -6.441588  , -46.913807  ,  22.041527  ],\n",
       "       [ -6.4195347 , -46.10776   ,  22.584227  ],\n",
       "       [ -6.6038456 , -45.155468  ,  22.82485   ],\n",
       "       [ -6.8515215 , -44.22489   ,  23.09431   ],\n",
       "       [ -7.1318274 , -43.306385  ,  23.372847  ],\n",
       "       [ -7.174966  , -42.402252  ,  23.766851  ],\n",
       "       [ -7.482955  , -41.782566  ,  24.399235  ],\n",
       "       [ -8.149369  , -41.35641   ,  24.997698  ],\n",
       "       [ -8.084134  , -40.790195  ,  25.724014  ],\n",
       "       [ -7.745636  , -40.124893  ,  26.329771  ],\n",
       "       [ -7.87663   , -39.162193  ,  26.436258  ],\n",
       "       [ -7.806886  , -38.23414   ,  26.634901  ],\n",
       "       [ -7.4377756 , -37.527843  ,  27.238422  ],\n",
       "       [ -7.3872433 , -36.65703   ,  27.653862  ],\n",
       "       [ -7.5820427 , -35.69572   ,  27.834892  ],\n",
       "       [ -7.6403174 , -34.70401   ,  27.824118  ],\n",
       "       [ -7.7103686 , -33.729656  ,  27.933226  ],\n",
       "       [ -7.644287  , -32.80795   ,  28.303192  ],\n",
       "       [ -7.4206386 , -32.003742  ,  28.835052  ],\n",
       "       [ -7.264121  , -31.233727  ,  29.44526   ],\n",
       "       [ -7.29063   , -30.28949   ,  29.745173  ],\n",
       "       [ -7.043967  , -29.35839   ,  29.881683  ],\n",
       "       [ -6.47991   , -28.537252  ,  29.901588  ],\n",
       "       [ -6.008535  , -27.687227  ,  29.676851  ],\n",
       "       [ -5.5301733 , -26.825947  ,  29.58965   ],\n",
       "       [ -5.291912  , -25.906816  ,  29.853558  ],\n",
       "       [ -5.4063373 , -24.965195  ,  30.166815  ],\n",
       "       [ -5.393762  , -24.026415  ,  30.490255  ],\n",
       "       [ -5.3970146 , -23.117006  ,  30.886623  ],\n",
       "       [ -5.203887  , -22.23127   ,  31.231684  ],\n",
       "       [ -4.9822273 , -21.310446  ,  31.461962  ],\n",
       "       [ -5.0732303 , -20.402544  ,  31.85399   ],\n",
       "       [ -4.757434  , -19.53125   ,  32.124138  ],\n",
       "       [ -4.433279  , -18.625307  ,  31.93126   ],\n",
       "       [ -4.554252  , -17.67784   ,  31.646519  ],\n",
       "       [ -4.6118245 , -16.695427  ,  31.55752   ],\n",
       "       [ -4.5436645 , -15.790389  ,  31.935247  ],\n",
       "       [ -4.3606715 , -14.877184  ,  32.161167  ],\n",
       "       [ -3.876268  , -14.015485  ,  32.14206   ],\n",
       "       [ -3.6351945 , -13.085834  ,  32.08173   ],\n",
       "       [ -3.4025888 , -12.154148  ,  31.955118  ],\n",
       "       [ -3.250502  , -11.205941  ,  32.031498  ],\n",
       "       [ -3.4591122 , -10.246286  ,  32.20144   ],\n",
       "       [ -3.531453  ,  -9.290548  ,  32.485775  ],\n",
       "       [ -3.3951633 ,  -8.363195  ,  32.81853   ],\n",
       "       [ -3.2131345 ,  -7.467636  ,  33.21721   ],\n",
       "       [ -3.2793803 ,  -6.603886  ,  33.710323  ],\n",
       "       [ -3.3570976 ,  -5.7498074 ,  34.21998   ],\n",
       "       [ -3.4320626 ,  -4.8671703 ,  34.679913  ],\n",
       "       [ -3.2467396 ,  -3.9436245 ,  34.689484  ],\n",
       "       [ -3.2233822 ,  -3.0178552 ,  34.526745  ],\n",
       "       [ -3.2436662 ,  -2.092833  ,  34.336422  ],\n",
       "       [ -3.1387231 ,  -1.1761689 ,  34.02832   ],\n",
       "       [ -2.9803333 ,  -0.25464737,  33.772774  ],\n",
       "       [ -2.4243975 ,   0.47276127,  33.371475  ],\n",
       "       [ -2.2780094 ,   0.6377262 ,  33.3042    ]], dtype=float32)])"
      ]
     },
     "execution_count": 46,
     "metadata": {},
     "output_type": "execute_result"
    }
   ],
   "source": [
    "streamsToPlot.streamlines"
   ]
  },
  {
   "cell_type": "markdown",
   "id": "2be26222",
   "metadata": {},
   "source": [
    "Feel free to return to the selection cell, select different labels, and then visualize that new selection by running the previous code block.\n",
    "\n",
    "Alternatively, continue on to modify"
   ]
  },
  {
   "cell_type": "code",
   "execution_count": null,
   "id": "3af5f64f",
   "metadata": {},
   "outputs": [],
   "source": [
    "#todo copy over sphere segmentation from WiMSE"
   ]
  }
 ],
 "metadata": {
  "celltoolbar": "Edit Metadata",
  "kernelspec": {
   "display_name": "Python 3",
   "language": "python",
   "name": "python3"
  },
  "language_info": {
   "codemirror_mode": {
    "name": "ipython",
    "version": 3
   },
   "file_extension": ".py",
   "mimetype": "text/x-python",
   "name": "python",
   "nbconvert_exporter": "python",
   "pygments_lexer": "ipython3",
   "version": "3.9.6"
  }
 },
 "nbformat": 4,
 "nbformat_minor": 5
}
