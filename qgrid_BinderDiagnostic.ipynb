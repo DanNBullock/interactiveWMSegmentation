{
 "cells": [
  {
   "cell_type": "markdown",
   "id": "0d36141d",
   "metadata": {},
   "source": [
    "testing the functionality of qgrid table display in various environments"
   ]
  },
  {
   "cell_type": "code",
   "execution_count": 3,
   "id": "3862ebc1",
   "metadata": {},
   "outputs": [
    {
     "data": {
      "text/html": [
       "<div>\n",
       "<style scoped>\n",
       "    .dataframe tbody tr th:only-of-type {\n",
       "        vertical-align: middle;\n",
       "    }\n",
       "\n",
       "    .dataframe tbody tr th {\n",
       "        vertical-align: top;\n",
       "    }\n",
       "\n",
       "    .dataframe thead th {\n",
       "        text-align: right;\n",
       "    }\n",
       "</style>\n",
       "<table border=\"1\" class=\"dataframe\">\n",
       "  <thead>\n",
       "    <tr style=\"text-align: right;\">\n",
       "      <th></th>\n",
       "      <th>test</th>\n",
       "      <th>test.1</th>\n",
       "      <th>test.2</th>\n",
       "      <th>test.3</th>\n",
       "      <th>test.4</th>\n",
       "    </tr>\n",
       "  </thead>\n",
       "  <tbody>\n",
       "    <tr>\n",
       "      <th>0</th>\n",
       "      <td>test</td>\n",
       "      <td>test</td>\n",
       "      <td>test</td>\n",
       "      <td>test</td>\n",
       "      <td>test</td>\n",
       "    </tr>\n",
       "    <tr>\n",
       "      <th>1</th>\n",
       "      <td>test</td>\n",
       "      <td>test</td>\n",
       "      <td>test</td>\n",
       "      <td>test</td>\n",
       "      <td>test</td>\n",
       "    </tr>\n",
       "    <tr>\n",
       "      <th>2</th>\n",
       "      <td>test</td>\n",
       "      <td>test</td>\n",
       "      <td>test</td>\n",
       "      <td>test</td>\n",
       "      <td>test</td>\n",
       "    </tr>\n",
       "    <tr>\n",
       "      <th>3</th>\n",
       "      <td>test</td>\n",
       "      <td>test</td>\n",
       "      <td>test</td>\n",
       "      <td>test</td>\n",
       "      <td>test</td>\n",
       "    </tr>\n",
       "    <tr>\n",
       "      <th>4</th>\n",
       "      <td>test</td>\n",
       "      <td>test</td>\n",
       "      <td>test</td>\n",
       "      <td>test</td>\n",
       "      <td>test</td>\n",
       "    </tr>\n",
       "  </tbody>\n",
       "</table>\n",
       "</div>"
      ],
      "text/plain": [
       "   test test.1 test.2 test.3 test.4\n",
       "0  test   test   test   test   test\n",
       "1  test   test   test   test   test\n",
       "2  test   test   test   test   test\n",
       "3  test   test   test   test   test\n",
       "4  test   test   test   test   test"
      ]
     },
     "execution_count": 3,
     "metadata": {},
     "output_type": "execute_result"
    }
   ],
   "source": [
    "#load pandas and load csv\n",
    "import pandas as pd\n",
    "testTable=pd.read_csv('testCsv.csv')\n",
    "testTable"
   ]
  },
  {
   "cell_type": "markdown",
   "id": "220abc9c",
   "metadata": {},
   "source": [
    "now try and use qgrid to display it"
   ]
  },
  {
   "cell_type": "code",
   "execution_count": 5,
   "id": "2276f270",
   "metadata": {},
   "outputs": [
    {
     "data": {
      "application/vnd.jupyter.widget-view+json": {
       "model_id": "f0b10f669bf44c3c902615f6200ecf5c",
       "version_major": 2,
       "version_minor": 0
      },
      "text/plain": [
       "QgridWidget(grid_options={'fullWidthRows': True, 'syncColumnCellResize': True, 'forceFitColumns': True, 'defau…"
      ]
     },
     "metadata": {},
     "output_type": "display_data"
    }
   ],
   "source": [
    "import qgrid\n",
    "qgrid_widget= qgrid.show_grid(testTable,show_toolbar=True)\n",
    "qgrid_widget"
   ]
  },
  {
   "cell_type": "code",
   "execution_count": 18,
   "id": "202ce4ad",
   "metadata": {},
   "outputs": [
    {
     "data": {
      "text/plain": [
       "['      - Validating: ok',\n",
       " '      - Validating: ok',\n",
       " '      - Validating: ok',\n",
       " '      - Validating: ok',\n",
       " '      - Validating: ok',\n",
       " '      - Validating: ok',\n",
       " '      - Validating: ok',\n",
       " '      - Validating: ok',\n",
       " 'Known nbextensions:',\n",
       " '  config dir: D:\\\\Programs\\\\Python\\\\envs\\\\3.9env\\\\etc\\\\jupyter\\\\nbconfig',\n",
       " '    notebook section',\n",
       " '      ipyvolume/extension enabled ',\n",
       " '      jupyter-datawidgets/extension enabled ',\n",
       " '      jupyter-threejs/extension enabled ',\n",
       " '      jupyter-webrtc/extension enabled ',\n",
       " '      jupytext/index enabled ',\n",
       " '      nbdime/index enabled ',\n",
       " '      jupyter-js-widgets/extension enabled ',\n",
       " '      qgrid/extension enabled ']"
      ]
     },
     "execution_count": 18,
     "metadata": {},
     "output_type": "execute_result"
    }
   ],
   "source": [
    "#test for nbextensions\n",
    "import subprocess\n",
    "\n",
    "returnedFiles=subprocess.getoutput(\"jupyter nbextension list\")\n",
    "returnedFiles.split(\"\\n\")"
   ]
  },
  {
   "cell_type": "code",
   "execution_count": 19,
   "id": "f1efee97",
   "metadata": {},
   "outputs": [
    {
     "data": {
      "text/plain": [
       "['Traceback (most recent call last):',\n",
       " '  File \"D:\\\\Programs\\\\Python\\\\envs\\\\3.9env\\\\Scripts\\\\jupyter-script.py\", line 10, in <module>',\n",
       " '    sys.exit(main())',\n",
       " '  File \"D:\\\\Programs\\\\Python\\\\envs\\\\3.9env\\\\lib\\\\site-packages\\\\jupyter_core\\\\command.py\", line 285, in main',\n",
       " '    command = _jupyter_abspath(subcommand)',\n",
       " '  File \"D:\\\\Programs\\\\Python\\\\envs\\\\3.9env\\\\lib\\\\site-packages\\\\jupyter_core\\\\command.py\", line 124, in _jupyter_abspath',\n",
       " '    raise Exception(',\n",
       " 'Exception: Jupyter command `jupyter-labextension` not found.']"
      ]
     },
     "execution_count": 19,
     "metadata": {},
     "output_type": "execute_result"
    }
   ],
   "source": [
    "#test for labextensions\n",
    "\n",
    "returnedFiles=subprocess.getoutput(\"jupyter labextension list\")\n",
    "returnedFiles.split(\"\\n\")"
   ]
  }
 ],
 "metadata": {
  "kernelspec": {
   "display_name": "Python 3",
   "language": "python",
   "name": "python3"
  },
  "language_info": {
   "codemirror_mode": {
    "name": "ipython",
    "version": 3
   },
   "file_extension": ".py",
   "mimetype": "text/x-python",
   "name": "python",
   "nbconvert_exporter": "python",
   "pygments_lexer": "ipython3",
   "version": "3.9.6"
  }
 },
 "nbformat": 4,
 "nbformat_minor": 5
}
