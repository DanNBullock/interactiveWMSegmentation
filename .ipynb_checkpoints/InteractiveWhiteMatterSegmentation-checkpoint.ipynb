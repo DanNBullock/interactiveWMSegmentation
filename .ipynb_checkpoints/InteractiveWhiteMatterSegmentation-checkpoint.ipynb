{
 "cells": [
  {
   "cell_type": "markdown",
   "id": "3b71906e",
   "metadata": {},
   "source": [
    "Let's begin by selecting the atlas from your local file system.  If you're running this notebook locally, you should be able to navigate to the appropriate folder using the file chooser interface below without any special setup (beyond installation of the relevant packages).\n",
    "\n",
    "However, if you're using a [jupyterlab](https://jupyter.org/) [binder](https://mybinder.org/), there's an extra step to making your data avaialble to this interface.  In order to do this, you'll need to upload your data to this virtual environment.  NOTE: because this is a temporary virtual environment, any data that you upload here will not be preserved.  All the same, it is best to be careful about what data is uploaded.  To upload data to this [jupyterlab](https://jupyter.org/) environment Click the **file icon** in the **left hand menu**, then click the **underlined up arrow** to begin the upload selection.\n",
    "\n",
    "Alternatively, if you're using a classic jupyter-notebook [binder](https://mybinder.org/) (acheived by clicking **Launch Classic Notebook** under the help menu, and temporarily reccomended until widget interfacing has been fixed in jupyterlab) click the **upload** button and upload the files below, and then select this notebook (InteractiveWhiteMatterSegmentation.ipynb) and proceed normally.\n",
    "\n",
    "For this particular notebook to operate successfully you'll need to upload the following:\n",
    "\n",
    "- The desired volumetric brain segmentation that will be used to specify brain areas that you wish to view connectivity between (the atlas and the tractrogram should be aligned to one another / in the same space).\n",
    "- A whole-brain tractogram containing the candidate streamlines you wish to inspect/segment (the atlas and the tractrogram should be aligned to one another / in the same space).\n",
    "- A lookup table (csv or xls) indicating the human-interpretable identities of the labels in the volumetric brain atlas file.\n",
    "\n",
    "Once these have been uploaded using the interface on the left hand side of the jupyterlab/binder page, you should be able to access those files in subsequent sections (all on the main/default directory)."
   ]
  },
  {
   "cell_type": "code",
   "execution_count": 1,
   "id": "b72f0fd0",
   "metadata": {},
   "outputs": [
    {
     "name": "stdout",
     "output_type": "stream",
     "text": [
      "Please select your input atlas file\n"
     ]
    },
    {
     "data": {
      "application/vnd.jupyter.widget-view+json": {
       "model_id": "79d855e2b2084b9b9dcf1a6d149b68bb",
       "version_major": 2,
       "version_minor": 0
      },
      "text/plain": [
       "FileChooser(path='D:\\Documents\\gitDir\\monkeyTracts', filename='', title='HTML(value='', layout=Layout(display=…"
      ]
     },
     "metadata": {},
     "output_type": "display_data"
    }
   ],
   "source": [
    "#upload widget not working right now, just use path specification for current purposes\n",
    "#import ipywidgets as widgets\n",
    "#uploader = widgets.FileUpload()\n",
    "#uploader\n",
    "\n",
    "#set path to atlas\n",
    "from ipyfilechooser import FileChooser\n",
    "import os\n",
    "\n",
    "# Create and display a FileChooser widget\n",
    "# if a file has already been selected, do not revert to no file selected\n",
    "if 'fcAtlas' in locals():\n",
    "    #however, if the selected file path is None, do rectify that\n",
    "    if fcAtlas.selected_path==None:\n",
    "        print('Please select your input atlas file')\n",
    "        fcAtlas = FileChooser(os.getcwd())\n",
    "        display(fcAtlas)\n",
    "#if it doesn't exist at all (not sure how that would happen) also be sure to rectify that\n",
    "elif not('fcAtlas' in locals()):\n",
    "    fcAtlas = FileChooser(os.getcwd())\n",
    "    print('Please select your input atlas file')\n",
    "    display(fcAtlas)"
   ]
  },
  {
   "cell_type": "markdown",
   "id": "1349fc44",
   "metadata": {},
   "source": [
    "Now that we have selected the file, let's take a look at it.  Feel free to use the X, Y, and Z sliders to move about the atlas volume."
   ]
  },
  {
   "cell_type": "code",
   "execution_count": 2,
   "id": "3f175e0a",
   "metadata": {},
   "outputs": [
    {
     "data": {
      "text/plain": [
       "<Figure size 640x480 with 0 Axes>"
      ]
     },
     "metadata": {},
     "output_type": "display_data"
    },
    {
     "data": {
      "application/vnd.jupyter.widget-view+json": {
       "model_id": "5e950411164e442ca53bd106b6b7ae55",
       "version_major": 2,
       "version_minor": 0
      },
      "text/plain": [
       "interactive(children=(IntSlider(value=65, continuous_update=False, description='x', max=131), IntSlider(value=…"
      ]
     },
     "metadata": {},
     "output_type": "display_data"
    }
   ],
   "source": [
    "#conditionally plot the atlas if a file has been chosen.  If not, print warning.\n",
    "#this might be avoidable with a clever use of observe\n",
    "\n",
    "import copy\n",
    "if not(fcAtlas.selected_path==None):\n",
    "    pathToAtlas=os.path.join(fcAtlas.selected_path,fcAtlas.selected_filename)\n",
    "    #load the nifti\n",
    "    import nibabel as nib\n",
    "    atlasImg = nib.load(pathToAtlas)\n",
    "    #now relabel it; maybe not necessary with monkey atlases, we'll see\n",
    "\n",
    "    #in order to have visually distinguishable areas we have to renumber the labels in the data object\n",
    "    #this is because niwidgets scales the color map via the min and max values of the labeling scheme,\n",
    "    #rather than by unique values\n",
    "    #this takes a while to perform, so if it already exists, check, load it, and don't do it again.\n",
    "    if os.path.isfile('relabeledAtlas.nii.gz'):\n",
    "        relabeledAtlas = nib.load('relabeledAtlas.nii.gz')\n",
    "    else:\n",
    "        #need to make a deep copy, otherwise the relabeling process relabels the origional\n",
    "        relabeledAtlas=copy.deepcopy(atlasImg.get_fdata())\n",
    "\n",
    "        #get the unique entries\n",
    "        import numpy as np\n",
    "        uniqueAtlasEntries=np.unique(relabeledAtlas).astype(int)\n",
    "\n",
    "        #iterate across unique label entries\n",
    "        for iLabels in range(len(uniqueAtlasEntries)):\n",
    "            #replace the current uniqueAtlasEntries value with the iLabels value\n",
    "            #constitutes a simple renumbering schema\n",
    "            relabeledAtlas[relabeledAtlas==uniqueAtlasEntries[iLabels]]=iLabels\n",
    "\n",
    "        #save to working directory; required as nifitWidget doesn't load from object apparently\n",
    "        renumberedAtlasNifti=nib.Nifti1Image(relabeledAtlas, atlasImg.affine, atlasImg.header)  \n",
    "        #save the object down\n",
    "        nib.save(renumberedAtlasNifti, 'relabeledAtlas.nii.gz')\n",
    "\n",
    "    from niwidgets import NiftiWidget\n",
    "    atlas_widget = NiftiWidget('relabeledAtlas.nii.gz')\n",
    "    atlas_widget.nifti_plotter(colormap='nipy_spectral')\n",
    "else:\n",
    "    print('No input atlas file selected.  Please return to previous cell, select an atlas file, and rerun this cell.')"
   ]
  },
  {
   "cell_type": "markdown",
   "id": "7f8e02ef",
   "metadata": {},
   "source": [
    "Next we'll select the Lookup table for the atlas you have provided.  The Lookup table provides information about the correspondances of the numerical labels in the atlas file you just provided with the anatomical/conceptual entities they are supposed to designate (as described [here, in a broad manner](https://dannbullock.github.io/WiMSE/notebooks/How_to_interpret_a_volumetric_brain_segmentation.html) and [here, in the context of color lookup tables](https://www.slicer.org/wiki/Documentation/4.1/SlicerApplication/LookupTables).\n",
    "\n",
    "We will be using an interactive interface with a spreadsheet version of the lookup table in order to select which labels will be required endpoints for our streamlines of interest.  Technically you do not need to provide an Lookup table, as this notebook will peice together a spreadsheet label-selection interface in one is not found, however such an interface will have no terminology-based labeling information and will thus be fairly difficult to interpret or work with. "
   ]
  },
  {
   "cell_type": "code",
   "execution_count": 3,
   "id": "b0e5757a",
   "metadata": {},
   "outputs": [
    {
     "name": "stdout",
     "output_type": "stream",
     "text": [
      "Please select your input Lookup table file\n"
     ]
    },
    {
     "data": {
      "application/vnd.jupyter.widget-view+json": {
       "model_id": "e6d6c699dff3432d9b2ff1094d3a7980",
       "version_major": 2,
       "version_minor": 0
      },
      "text/plain": [
       "FileChooser(path='D:\\Documents\\gitDir\\monkeyTracts', filename='', title='HTML(value='', layout=Layout(display=…"
      ]
     },
     "metadata": {},
     "output_type": "display_data"
    }
   ],
   "source": [
    "if 'fcLUT' in locals():\n",
    "    #however, if the selected file path is None, do rectify that\n",
    "    if fcLUT.selected_path==None:\n",
    "        print('Please select your input Lookup table file')\n",
    "        fcLUT = FileChooser(os.getcwd())\n",
    "        display(fcLUT)\n",
    "#if it doesn't exist at all (not sure how that would happen) also be sure to rectify that\n",
    "elif not('fcLUT' in locals()):\n",
    "    fcLUT = FileChooser(os.getcwd())\n",
    "    print('Please select your input Lookup table file')\n",
    "    display(fcLUT)"
   ]
  },
  {
   "cell_type": "markdown",
   "id": "98c7f103",
   "metadata": {},
   "source": [
    "Lets take a quick look at the LUT that has been provided (or that will be built) using [qgrid](https://github.com/quantopian/qgrid)."
   ]
  },
  {
   "cell_type": "code",
   "execution_count": 4,
   "id": "eb4c6bc3",
   "metadata": {},
   "outputs": [
    {
     "data": {
      "application/vnd.jupyter.widget-view+json": {
       "model_id": "fc514686bd424c2b9a7a1950080d2902",
       "version_major": 2,
       "version_minor": 0
      },
      "text/plain": [
       "QgridWidget(grid_options={'fullWidthRows': True, 'syncColumnCellResize': True, 'forceFitColumns': True, 'defau…"
      ]
     },
     "metadata": {},
     "output_type": "display_data"
    }
   ],
   "source": [
    "#conditionally plot the atlas if a file has been chosen.  If not, build a table from the information in the passed atlas.\n",
    "#this might be avoidable with a clever use of observe\n",
    "import pandas as pd\n",
    "if not(fcLUT.selected_path==None):\n",
    "    LUTpath=os.path.join(fcLUT.selected_path,fcLUT.selected_filename)\n",
    "    if fcLUT.selected_filename[-4:]=='.csv':\n",
    "        LUT=pd.read_csv(LUTpath)\n",
    "    elif (fcLUT.selected_filename[-4:]=='.xls',fcLUT.selected_filename[-5:]=='.xlsx'):\n",
    "        LUT=pd.read_excel(LUTpath)\n",
    "else:\n",
    "    #build it from the input data\n",
    "    import numpy as np\n",
    "    inferredLUTIdentities={'origLabels': np.unique(atlasImg.get_fdata()).astype(int),'newLabels':np.unique(relabeledAtlas).astype(int)}\n",
    "    LUT=pd.DataFrame(data=inferredLUTIdentities)  \n",
    "\n",
    "#one way or the other the LUT should now be available\n",
    "import qgrid\n",
    "qgrid_firstLUT_widget= qgrid.show_grid(LUT,show_toolbar=True)\n",
    "qgrid_firstLUT_widget"
   ]
  },
  {
   "cell_type": "markdown",
   "id": "7ee33373",
   "metadata": {},
   "source": [
    "Next, let's select the tractogram file.  Due to the [RAM limitations of binder](https://mybinder.readthedocs.io/en/latest/about/about.html#how-much-memory-am-i-given-when-using-binder), it is **strongly** recomend that you limit the size of the uploaded tractogram to less than 1.25 GB."
   ]
  },
  {
   "cell_type": "code",
   "execution_count": 5,
   "id": "56a2486e",
   "metadata": {},
   "outputs": [
    {
     "name": "stdout",
     "output_type": "stream",
     "text": [
      "Please select your input tractogram file\n"
     ]
    },
    {
     "data": {
      "application/vnd.jupyter.widget-view+json": {
       "model_id": "cdc2ca3727724b27b6a7ceeda13ab562",
       "version_major": 2,
       "version_minor": 0
      },
      "text/plain": [
       "FileChooser(path='D:\\Documents\\gitDir\\monkeyTracts', filename='', title='HTML(value='', layout=Layout(display=…"
      ]
     },
     "metadata": {},
     "output_type": "display_data"
    }
   ],
   "source": [
    "# Create and display a FileChooser widget\n",
    "# if a file has already been selected, do not revert to no file selected\n",
    "if 'fcTractogram' in locals():\n",
    "    #however, if the selected file path is None, do rectify that\n",
    "    if fcTractogram.selected_path==None:\n",
    "        print('Please select your input tractogram file')\n",
    "        fcTractogram = FileChooser(os.getcwd())\n",
    "        display(fcTractogram)\n",
    "#if it doesn't exist at all (not sure how that would happen) also be sure to rectify that\n",
    "elif not('fcTractogram' in locals()):\n",
    "    fcTractogram = FileChooser(os.getcwd())\n",
    "    print('Please select your input tractogram file')\n",
    "    display(fcTractogram)"
   ]
  },
  {
   "cell_type": "markdown",
   "id": "be7573a2",
   "metadata": {},
   "source": [
    "Now that you have selected your tractogram, lets interactively view it.\n",
    "\n",
    "**NOTE**: due to [an ipyvolume idiosyncracy](https://github.com/maartenbreddels/ipyvolume/issues/206) the following visualization widget will begin in an extremely zoomed out state.  Use your middle mouse button (or mouse scroll inteface) to zoom in on the tracrogram visualization)\n",
    "\n",
    "**Warning**:  If you have more than 100,000 streamlines in your input tractogram, it is recommended that you skip the next cell and move on to the dipy-based segmentation."
   ]
  },
  {
   "cell_type": "code",
   "execution_count": null,
   "id": "d6f174a2",
   "metadata": {
    "scrolled": true
   },
   "outputs": [],
   "source": [
    "import nibabel as nib\n",
    "#conditionally plot the tractogram if a file has been chosen.  If not, print warning.\n",
    "#this might be avoidable with a clever use of observe\n",
    "def plotParcellationConnectionWidget(tractogramToPlot):\n",
    "    #import widget\n",
    "    from niwidgets import StreamlineWidget\n",
    "    #set widget object\n",
    "    tractogramToPlot\n",
    "    sw = StreamlineWidget(streamlines=tractogramToPlot.streamlines)\n",
    "    #set plotting characteristics\n",
    "    style = {'axes': {'color': 'red',\n",
    "                'label': {'color': 'white'},\n",
    "                'ticklabel': {'color': 'white'},\n",
    "                'visible': False},\n",
    "                'background-color': 'black',\n",
    "                'box': {'visible': False}}\n",
    "        \n",
    "    #plot it\n",
    "    #set a viable threshold for how many streamlines to default to plotting\n",
    "    #likely dependant on available resources and such\n",
    "    streamThresh=25000\n",
    "    if len(tractogramToPlot.streamlines)<=streamThresh:\n",
    "        defaultPercentile=0\n",
    "        print('Plotting tractogram for all ' + str(len(tractogramToPlot.streamlines)) + ' streamlines.') \n",
    "    else:\n",
    "        defaultPercentile=1-(len(tractogramToPlot.streamlines)/streamThresh)\n",
    "        print('Plotting tractogram for ' + str(((1-defaultPercentile)*streamThresh)) +' of ' + str(len(streamsObjIN.streamlines)) + ' streamlines.')\n",
    "      \n",
    "    sw.plot(display_fraction=1, width=1000, height=1000, style=style, percentile=defaultPercentile)\n",
    "\n",
    "if not(fcTractogram.selected_path==None):   \n",
    "    tractogramPath=(os.path.join(fcTractogram.selected_path,fcTractogram.selected_filename))\n",
    "    #compute size and throw warning or error if file size too \n",
    "    tractogramGBSize=os.path.getsize(tractogramPath)/(1024*1024*1024)\n",
    "    if 2>tractogramGBSize>1.25:\n",
    "        import warnings\n",
    "        warnings.warn(\"Input size of tractogram (\"+str(tractogramGBSize)+\"GB) exceeds recomended value\")\n",
    "    elif tractogramGBSize>2: \n",
    "        raise ValueError(\"Input size of tractogram (\"+str(tractogramGBSize)+\"GB) exceeds maximum RAM allocation\")\n",
    "\n",
    "    #do a check to see if the selected input file type is supported\n",
    "    if not(nib.streamlines.is_supported(tractogramPath)):\n",
    "        raise ValueError(\"Input tractogram file type not supported\")\n",
    "    else:\n",
    "        streamsObjIN=nib.streamlines.load(tractogramPath)\n",
    "\n",
    "    \n",
    "    display(plotParcellationConnectionWidget(streamsObjIN))\n",
    "else:\n",
    "    print('No input tractogram file selected.  Please return to previous cell, select a tractogram file, and rerun this cell.')"
   ]
  },
  {
   "cell_type": "markdown",
   "id": "3a8956e2",
   "metadata": {},
   "source": [
    "## Now we'll use [dipy](https://dipy.org/) to perform a _full segmentation_ (as demonstrated and described [here](https://dannbullock.github.io/WiMSE/notebooks/A_first_segmentation.html)) and then, using the aforementioned Looktable interface, select those labels that we wish to require our streamlines of interest to have endpoints in.  The goal of this is two-fold.  First, the resultant heatmap plot gives us an impression (however abstract) of the overall pattern of connectivity instantiated in our input tractome.  Second, the pre-application of this segmentation makes the later selection of streamlines _much_ simpler.\n",
    "\n",
    "**NOTE**: This process may take a non-trivial amount of time to complete.\n",
    "\n",
    "**ALSO NOTE**:  In order to avoid accidentally rerunning this next cell, a check is performed to see if it has been run previously.  If so, it does not run again.  _However, this means that if a new atlas or tractogram is loaded in the earlier cells, it will be necessary to restart this entire notebook (e.g. under the kernel option in the menu bar, select \"restart\")_."
   ]
  },
  {
   "cell_type": "code",
   "execution_count": 7,
   "id": "4c6f1599",
   "metadata": {},
   "outputs": [
    {
     "name": "stdout",
     "output_type": "stream",
     "text": [
      "Connectivity profile for 1000000 streamlines.\n"
     ]
    },
    {
     "data": {
      "image/png": "[encoded data removed]",
      "text/plain": [
       "<Figure size 640x480 with 2 Axes>"
      ]
     },
     "metadata": {},
     "output_type": "display_data"
    }
   ],
   "source": [
    "import nibabel as nib\n",
    "if not(fcTractogram.selected_path==None):   \n",
    "    tractogramPath=(os.path.join(fcTractogram.selected_path,fcTractogram.selected_filename))\n",
    "\n",
    "    #do a check to see if the selected input file type is supported\n",
    "    if not(nib.streamlines.is_supported(tractogramPath)):\n",
    "        raise ValueError(\"Input tractogram file type not supported\")\n",
    "    else:\n",
    "        streamsObjIN=nib.streamlines.load(tractogramPath)\n",
    "else:\n",
    "    print('No input tractogram file selected.  Please return to tractogram input cell, select an tractogram file, and rerun this cell.')\n",
    "\n",
    "from dipy.tracking import utils\n",
    "#segment tractome into connectivity matrix from parcellation\n",
    "M, grouping=utils.connectivity_matrix(streamsObjIN.tractogram.streamlines, atlasImg.affine, label_volume=relabeledAtlas.get_fdata().astype(int),\n",
    "                            return_mapping=True,\n",
    "                            mapping_as_streamlines=False)\n",
    "import numpy as np\n",
    "import seaborn as sns\n",
    "import matplotlib.pyplot as plt\n",
    "print('Connectivity profile for ' + str(len(streamsObjIN.tractogram.streamlines)) + ' streamlines.')\n",
    "sns.heatmap(np.log1p(M))\n",
    "plt.show()"
   ]
  },
  {
   "cell_type": "markdown",
   "id": "f7fcd260",
   "metadata": {},
   "source": [
    "Now, lets use qgrid once more, but this time, you (the user) will be tasked with modifying the table in accordance with your segmentation goals.  In the table below, use the information in the column associated with anatomical terminology (if available) to select the labels that you wish to use as endpoint criteria for selecting streamlines.  Feel free to use the search functionality of the table by clicking the symbol beside a column's name.\n",
    "\n",
    "To add a label to a either criteria \"region1\" or criteria \"region2\" place a value of **1** (as in the form of a **boolean vector** in the corresponding column.  The labels will be combined into \"region1\" and \"region2\" in accordance with this input, and (in the next cell) the ccoresponding streamlines will be displayed.\n",
    "\n",
    "**Take care when making these entries as it can be easy to reset the jupyter cell type to \"Markdown\" when making this selection.  If this happens, reset the cell type to \"Code\" and rerun the cell\"**"
   ]
  },
  {
   "cell_type": "code",
   "execution_count": 9,
   "id": "2869e269",
   "metadata": {},
   "outputs": [
    {
     "data": {
      "application/vnd.jupyter.widget-view+json": {
       "model_id": "1c2d3673b7d04166b02c14074c97c56d",
       "version_major": 2,
       "version_minor": 0
      },
      "text/plain": [
       "QgridWidget(grid_options={'fullWidthRows': True, 'syncColumnCellResize': True, 'forceFitColumns': True, 'defau…"
      ]
     },
     "metadata": {},
     "output_type": "display_data"
    }
   ],
   "source": [
    "# if the length of the provided LUT exceeds the number of unique entries, then the indexes of the table cannot be relied\n",
    "#upon to provide us with the correspondance to the relabeled atlas.  If this is the case, try and implement a workaround.\n",
    "if len(LUT)>len(np.unique(relabeledAtlas)):\n",
    "    #infer which column contains the original identities\n",
    "    #presumably, this would be the LUT column with the largest number of matching labels with the original atlas.\n",
    "    matchingLabelsCount=[len(list(set(LUT[iColumns]).intersection(set(np.unique(atlasImg.get_fdata()).astype(int))))) for iColumns in LUT.columns.to_list()]\n",
    "    #there's an edge case here relabeled atlas == the original atlas AND the provided LUT was larger (what would the extra entries be?)\n",
    "    #worry about that later\n",
    "    columnBestGuess=LUT.columns.to_list()[matchingLabelsCount.index(np.max(matchingLabelsCount))]\n",
    "    #now that we have the guess, get the corresponding row entries, and reset the index.\n",
    "    #This should make the index match the renumbered label values.\n",
    "    LUTinterface=LUT[LUT[columnBestGuess].isin(np.unique(atlasImg.get_fdata()).astype(int)).values].reset_index(drop=True)\n",
    "    \n",
    "#proceed with working with the LUT.  Here we add the columns for selecting labels for segmentation / streamline extraction.\n",
    "if not(\"region1\" in LUTinterface.columns):\n",
    "    LUTinterface.insert(0, \"region1\", np.zeros([ len(LUTinterface),1],dtype=int), True)\n",
    "if not(\"region2\" in LUTinterface.columns):\n",
    "    LUTinterface.insert(1, \"region2\", np.zeros([ len(LUTinterface),1],dtype=int), True)\n",
    "\n",
    "#in order to provide some intuitons about where to look, add a column indicating the number of endpoints in that label.\n",
    "#this could probably just be an interative sum across row operation for the connectivty matrix.\n",
    "\n",
    "\n",
    "connectionLocations=[]\n",
    "#create a list of lists of all if the keys featuring this index\n",
    "for iIndexes in LUT.index.to_list():\n",
    "    connectionLocations.append( [iIndexes in sublist for sublist in list(grouping.keys())])\n",
    "    \n",
    "#get the dictionary keys in a list\n",
    "keyTargets=list(grouping.keys())\n",
    "#create a blank output vector\n",
    "streamCounts=np.zeros(len(LUTinterface),dtype=int)\n",
    "#iterate across all labels\n",
    "for iLabels in LUTinterface.index.to_list():\n",
    "    #find the dictionary keys which feature this connection\n",
    "    currentKeylocations=[i for i, x in enumerate(connectionLocations[iLabels]) if x]\n",
    "    #create a zero holder for a streamline accumulator/counter\n",
    "    currentStreamTotal=0\n",
    "    #iterate across the found connections for this key\n",
    "    for iCurrentConnections in currentKeylocations:\n",
    "        #add the number of streamlines to the streamline total\n",
    "        currentStreamTotal=currentStreamTotal+len(grouping[keyTargets[iCurrentConnections]])\n",
    "    #set the value\n",
    "    streamCounts[iLabels]=currentStreamTotal\n",
    "if not(\"endpointCount\" in LUTinterface.columns):\n",
    "    LUTinterface.insert(2, \"endpointCount\",streamCounts, True) \n",
    "    \n",
    "seg_entryTable_widget=qgrid.show_grid(LUTinterface,show_toolbar=True)\n",
    "seg_entryTable_widget"
   ]
  },
  {
   "cell_type": "markdown",
   "id": "4d9b1bcf",
   "metadata": {},
   "source": [
    "To now perform the segmentation (after having made the above selection) run the next cell.  The streamlines displayed are those that have one endpoint in one the labels with 1 in the \"region1\" column and one endpoint in one the labels with 1 in the \"region2\" column.\n",
    "\n",
    "**Remember**: the visualization starts fairly far out--be sure to zoom in."
   ]
  },
  {
   "cell_type": "code",
   "execution_count": 12,
   "id": "3e754e1b",
   "metadata": {},
   "outputs": [
    {
     "name": "stdout",
     "output_type": "stream",
     "text": [
      "Plotting tractogram for all 24042 streamlines.\n"
     ]
    },
    {
     "data": {
      "application/vnd.jupyter.widget-view+json": {
       "model_id": "b053398746984ae7be280c352ec5ecda",
       "version_major": 2,
       "version_minor": 0
      },
      "text/plain": [
       "VBox(children=(Figure(camera=PerspectiveCamera(fov=46.0, position=(0.0, 0.0, 2.0), projectionMatrix=(1.0, 0.0,…"
      ]
     },
     "metadata": {},
     "output_type": "display_data"
    },
    {
     "data": {
      "application/vnd.jupyter.widget-view+json": {
       "model_id": "3e7f379476054595aa2c3ce2e4fc3d6f",
       "version_major": 2,
       "version_minor": 0
      },
      "text/plain": [
       "interactive(children=(FloatSlider(value=5.202455997467041, continuous_update=False, description='threshold', m…"
      ]
     },
     "metadata": {},
     "output_type": "display_data"
    },
    {
     "data": {
      "text/plain": [
       "None"
      ]
     },
     "metadata": {},
     "output_type": "display_data"
    }
   ],
   "source": [
    "#define a function that will be used to select streamlines from a larger tractogram\n",
    "def extractSubTractogram(sourceTractogram,indexes):\n",
    "    #import relevant package\n",
    "    import nibabel as nib\n",
    "    #extrect the desired streamlines into a new streamline object\n",
    "    streamlines = sourceTractogram.streamlines[indexes]\n",
    "    #establish tractogram object\n",
    "    out_tractogram = nib.streamlines.tractogram.Tractogram(streamlines)\n",
    "    return out_tractogram\n",
    "\n",
    "def plotParcellationConnectionWidget(tractogramToPlot):\n",
    "    #import widget\n",
    "    from niwidgets import StreamlineWidget\n",
    "    #set widget object\n",
    "    tractogramToPlot\n",
    "    sw = StreamlineWidget(streamlines=tractogramToPlot.streamlines)\n",
    "    #set plotting characteristics\n",
    "    style = {'axes': {'color': 'red',\n",
    "                'label': {'color': 'white'},\n",
    "                'ticklabel': {'color': 'white'},\n",
    "                'visible': False},\n",
    "                'background-color': 'black',\n",
    "                'box': {'visible': False}}\n",
    "        \n",
    "    #plot it\n",
    "    #set a viable threshold for how many streamlines to default to plotting\n",
    "    #likely dependant on available resources and such\n",
    "    streamThresh=25000\n",
    "    if len(tractogramToPlot.streamlines)<=streamThresh:\n",
    "        defaultPercentile=0\n",
    "        print('Plotting tractogram for all ' + str(len(tractogramToPlot.streamlines)) + ' streamlines.') \n",
    "    else:\n",
    "        defaultPercentile=1-(len(tractogramToPlot.streamlines)/streamThresh)\n",
    "        print('Plotting tractogram for ' + str(((1-defaultPercentile)*streamThresh)) +' of ' + str(len(streamsObjIN.streamlines)) + ' streamlines.')\n",
    "      \n",
    "    sw.plot(display_fraction=1, width=1000, height=1000, style=style, percentile=defaultPercentile)\n",
    "\n",
    "segTable=seg_entryTable_widget.get_changed_df()\n",
    "#check to make sure regions have actually be selected\n",
    "if sum(segTable['region1'].values)>0 and sum(segTable['region2'].values)>0:\n",
    "    #find the indexes for all of the labels that have been selected\n",
    "    region1Indexes=segTable[segTable['region1']==1].index.to_list()\n",
    "    region2Indexes=segTable[segTable['region2']==1].index.to_list()\n",
    "    import itertools\n",
    "    #find all of the combinations of the selected labels\n",
    "    permutationsLabels = list(itertools.product(region1Indexes, region2Indexes))\n",
    "    #create a flipped version of that (because we don't care about the orientation of the streamlines)\n",
    "    flippedLabels= [x[::-1] for x in permutationsLabels]\n",
    "    #combine those lists\n",
    "    combinedLabels=permutationsLabels+flippedLabels\n",
    "    #find the intersection of those combinations and the keys from the dipy tractome segmentation\n",
    "    validKeys=list(set(grouping.keys()).intersection(set(combinedLabels)))\n",
    "    #find the streamlines these connections correspond to\n",
    "    validStreamList=[grouping[iConnections] for iConnections in validKeys]\n",
    "    #convert that list of lists into a single list\n",
    "    validStreamlines=list(itertools.chain.from_iterable(validStreamList))\n",
    "    streamsToPlot=extractSubTractogram(streamsObjIN,validStreamlines)\n",
    "    display(plotParcellationConnectionWidget(streamsToPlot))\n",
    "else:\n",
    "    print('either region1 or region2 lacks selected labels.  Return to previous selection cell and select labels for both regions.')"
   ]
  },
  {
   "cell_type": "markdown",
   "id": "2be26222",
   "metadata": {},
   "source": [
    "Feel free to return to the selection cell, select different labels, and then visualize that new selection by running the previous code block.\n",
    "\n",
    "Alternatively, continue on to modify"
   ]
  },
  {
   "cell_type": "code",
   "execution_count": null,
   "id": "3af5f64f",
   "metadata": {},
   "outputs": [],
   "source": [
    "#todo copy over sphere segmentation from WiMSE"
   ]
  }
 ],
 "metadata": {
  "celltoolbar": "Edit Metadata",
  "kernelspec": {
   "display_name": "Python 3",
   "language": "python",
   "name": "python3"
  },
  "language_info": {
   "codemirror_mode": {
    "name": "ipython",
    "version": 3
   },
   "file_extension": ".py",
   "mimetype": "text/x-python",
   "name": "python",
   "nbconvert_exporter": "python",
   "pygments_lexer": "ipython3",
   "version": "3.9.6"
  }
 },
 "nbformat": 4,
 "nbformat_minor": 5
}
