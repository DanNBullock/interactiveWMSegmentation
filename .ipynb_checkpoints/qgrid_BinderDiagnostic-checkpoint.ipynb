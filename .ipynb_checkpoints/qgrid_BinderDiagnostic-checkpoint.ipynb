{
 "cells": [
  {
   "cell_type": "markdown",
   "id": "173071ce",
   "metadata": {},
   "source": [
    "testing the functionality of qgrid table display in various environments"
   ]
  },
  {
   "cell_type": "code",
   "execution_count": null,
   "id": "198ca11a",
   "metadata": {},
   "outputs": [],
   "source": [
    "#load pandas and load csv\n",
    "import pandas as pd\n",
    "testTable=pd.read_csv('testCsv.csv')\n",
    "testTable"
   ]
  },
  {
   "cell_type": "markdown",
   "id": "30f7f807",
   "metadata": {},
   "source": [
    "now try and use qgrid to display it"
   ]
  },
  {
   "cell_type": "code",
   "execution_count": null,
   "id": "54846a24",
   "metadata": {},
   "outputs": [],
   "source": [
    "import qgrid\n",
    "qgrid_widget= qgrid.show_grid(testTable,show_toolbar=True)\n",
    "qgrid_widget"
   ]
  },
  {
   "cell_type": "code",
   "execution_count": null,
   "id": "c7034208",
   "metadata": {},
   "outputs": [],
   "source": [
    "#test for nbextensions\n",
    "import subprocess\n",
    "\n",
    "returnedFiles=subprocess.getoutput(\"jupyter nbextension list\")\n",
    "returnedFiles.split(\"\\n\")"
   ]
  },
  {
   "cell_type": "code",
   "execution_count": null,
   "id": "cabeb560",
   "metadata": {},
   "outputs": [],
   "source": [
    "#test for labextensions\n",
    "\n",
    "returnedFiles=subprocess.getoutput(\"jupyter labextension list\")\n",
    "returnedFiles.split(\"\\n\")"
   ]
  }
 ],
 "metadata": {
  "kernelspec": {
   "display_name": "Python 3",
   "language": "python",
   "name": "python3"
  },
  "language_info": {
   "codemirror_mode": {
    "name": "ipython",
    "version": 3
   },
   "file_extension": ".py",
   "mimetype": "text/x-python",
   "name": "python",
   "nbconvert_exporter": "python",
   "pygments_lexer": "ipython3",
   "version": "3.9.6"
  }
 },
 "nbformat": 4,
 "nbformat_minor": 5
}
